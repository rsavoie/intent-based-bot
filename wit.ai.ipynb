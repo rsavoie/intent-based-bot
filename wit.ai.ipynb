{
 "cells": [
  {
   "cell_type": "markdown",
   "metadata": {},
   "source": [
    "# Wit.ai"
   ]
  },
  {
   "cell_type": "markdown",
   "metadata": {},
   "source": [
    "Notebook for ingest and train a model in Wit.ai. In the last section you could test your model via API."
   ]
  },
  {
   "cell_type": "code",
   "execution_count": null,
   "metadata": {},
   "outputs": [],
   "source": [
    "import requests as req\n",
    "import pandas as pd\n",
    "from intentbasedbot.config import *"
   ]
  },
  {
   "cell_type": "markdown",
   "metadata": {},
   "source": [
    "## Training data"
   ]
  },
  {
   "cell_type": "code",
   "execution_count": null,
   "metadata": {},
   "outputs": [],
   "source": [
    "utterances_df = pd.read_csv('data/snips_utterances.csv')"
   ]
  },
  {
   "cell_type": "code",
   "execution_count": null,
   "metadata": {},
   "outputs": [],
   "source": [
    "utterances_df.info()"
   ]
  },
  {
   "cell_type": "code",
   "execution_count": null,
   "metadata": {},
   "outputs": [],
   "source": [
    "# Values of column Intention\n",
    "snips_intents = ['BookRestaurant', 'GetWeather', 'PlayMusic', 'AddToPlaylist', 'RateBook', 'SearchScreeningEvent', 'SearchCreativeWork']"
   ]
  },
  {
   "cell_type": "code",
   "execution_count": null,
   "metadata": {},
   "outputs": [],
   "source": [
    "language = 'Spanish'"
   ]
  },
  {
   "cell_type": "code",
   "execution_count": null,
   "metadata": {},
   "outputs": [],
   "source": [
    "utterances_dic = {}\n",
    "for snips_intent in snips_intents:\n",
    "    print('Fetching intents of', snips_intent)\n",
    "    utterances_dic[snips_intent] = utterances_df[utterances_df['Intention'] == snips_intent][language].tolist()"
   ]
  },
  {
   "cell_type": "code",
   "execution_count": null,
   "metadata": {},
   "outputs": [],
   "source": [
    "list(utterances_dic.keys()) == snips_intents"
   ]
  },
  {
   "cell_type": "code",
   "execution_count": null,
   "metadata": {},
   "outputs": [],
   "source": [
    "len(utterances_dic['BookRestaurant'])"
   ]
  },
  {
   "cell_type": "markdown",
   "metadata": {},
   "source": [
    "## Posting the training data"
   ]
  },
  {
   "cell_type": "code",
   "execution_count": null,
   "metadata": {},
   "outputs": [],
   "source": [
    "# Checking builtin entities\n",
    "endpoint = f'{WIT_URL}{WIT_ENTITIES_URI}'\n",
    "params = {'v': WIT_VERSION}\n",
    "response = req.get(endpoint, params=params, headers=WIT_HEADERS,)\n",
    "response.json()"
   ]
  },
  {
   "cell_type": "code",
   "execution_count": null,
   "metadata": {},
   "outputs": [],
   "source": [
    "def build_sample(intent_utterance, intent):\n",
    "    return {\n",
    "        \"text\": intent_utterance,\n",
    "        \"entities\": [\n",
    "          {\n",
    "            \"entity\": \"intent\",\n",
    "            \"value\": intent\n",
    "          }\n",
    "        ]\n",
    "      }"
   ]
  },
  {
   "cell_type": "code",
   "execution_count": null,
   "metadata": {},
   "outputs": [],
   "source": [
    "# Post all intent samples - Already runned\n",
    "endpoint = f'{WIT_URL}{WIT_SAMPLES_URI}'\n",
    "params = {'v': WIT_VERSION}\n",
    "\n",
    "for intent in utterances_dic.keys():\n",
    "    samples = [build_sample(intent_utterance, intent) for intent_utterance in utterances_dic[intent]]\n",
    "    print('Samples of', intent, len(samples))    \n",
    "    \n",
    "    response = req.post(endpoint, params=params, headers=WIT_HEADERS, json=samples)\n",
    "    print('Response', response.text)"
   ]
  },
  {
   "cell_type": "code",
   "execution_count": null,
   "metadata": {},
   "outputs": [],
   "source": [
    "# Checking sample push\n",
    "endpoint = f'{WIT_URL}{WIT_ENTITIES_URI}/intent'\n",
    "params = {'v': WIT_VERSION}\n",
    "response = req.get(endpoint, params=params, headers=WIT_HEADERS,)\n",
    "wit_intents = response.json()['values']"
   ]
  },
  {
   "cell_type": "code",
   "execution_count": null,
   "metadata": {},
   "outputs": [],
   "source": [
    "for wit_intent in wit_intents:\n",
    "    print('Intent', wit_intent['value'], 'Samples', len(wit_intent['expressions']))"
   ]
  },
  {
   "cell_type": "markdown",
   "metadata": {},
   "source": [
    "## Testing"
   ]
  },
  {
   "cell_type": "code",
   "execution_count": null,
   "metadata": {},
   "outputs": [],
   "source": [
    "query = 'Quiero salir a comer mañana'\n",
    "\n",
    "context = {\n",
    "  \"reference_time\": \"2018-07-14T18:08:00\",\n",
    "  \"timezone\": \"America/Argentina/Buenos_Aires\"\n",
    "}\n",
    "params = {'v': WIT_VERSION, 'q': query, 'verbose': True, 'n': 3, 'context': context}\n",
    "endpoint = f'{WIT_URL}{WIT_MESSAGE_URI}'"
   ]
  },
  {
   "cell_type": "code",
   "execution_count": null,
   "metadata": {},
   "outputs": [],
   "source": [
    "response = req.get(endpoint, params=params, headers=WIT_HEADERS,)\n",
    "response.json()"
   ]
  },
  {
   "cell_type": "code",
   "execution_count": null,
   "metadata": {},
   "outputs": [],
   "source": []
  }
 ],
 "metadata": {
  "kernelspec": {
   "display_name": "Python 3",
   "language": "python",
   "name": "python3"
  },
  "language_info": {
   "codemirror_mode": {
    "name": "ipython",
    "version": 3
   },
   "file_extension": ".py",
   "mimetype": "text/x-python",
   "name": "python",
   "nbconvert_exporter": "python",
   "pygments_lexer": "ipython3",
   "version": "3.6.4"
  }
 },
 "nbformat": 4,
 "nbformat_minor": 2
}
