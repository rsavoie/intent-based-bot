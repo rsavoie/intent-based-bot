{
 "cells": [
  {
   "cell_type": "markdown",
   "metadata": {},
   "source": [
    "# Facebook Messenger"
   ]
  },
  {
   "cell_type": "markdown",
   "metadata": {},
   "source": [
    "Notebook for testing the ChatBot, the Graph API and sending Private Messages."
   ]
  },
  {
   "cell_type": "code",
   "execution_count": 27,
   "metadata": {},
   "outputs": [
    {
     "name": "stdout",
     "output_type": "stream",
     "text": [
      "The autoreload extension is already loaded. To reload it, use:\n",
      "  %reload_ext autoreload\n"
     ]
    }
   ],
   "source": [
    "%load_ext autoreload\n",
    "import requests as req\n",
    "import random\n",
    "\n",
    "from intentbasedbot import facebook\n",
    "from intentbasedbot.config import *\n",
    "from intentbasedbot import utils"
   ]
  },
  {
   "cell_type": "code",
   "execution_count": 28,
   "metadata": {},
   "outputs": [],
   "source": [
    "HOST = 'http://localhost:5000'\n",
    "URI = '/webhook'\n",
    "ENDPOINT = f'{HOST}{URI}'"
   ]
  },
  {
   "cell_type": "markdown",
   "metadata": {},
   "source": [
    "## Testing local Bot"
   ]
  },
  {
   "cell_type": "code",
   "execution_count": 29,
   "metadata": {},
   "outputs": [
    {
     "data": {
      "text/plain": [
       "{'message': \"Hello I'm a Facebook Bot!\"}"
      ]
     },
     "execution_count": 29,
     "metadata": {},
     "output_type": "execute_result"
    }
   ],
   "source": [
    "# Health check\n",
    "req.get(f'{HOST}').json()"
   ]
  },
  {
   "cell_type": "code",
   "execution_count": 30,
   "metadata": {},
   "outputs": [
    {
     "data": {
      "text/plain": [
       "('http://localhost:5000/webhook?hub.verify_token=V8PMYtiqzJtmyY2fdH7C9qzLDCUFLK0f&hub.challenge=CHALLENGE_ACCEPTED&hub.mode=subscribe',\n",
       " 200,\n",
       " 'CHALLENGE_ACCEPTED')"
      ]
     },
     "execution_count": 30,
     "metadata": {},
     "output_type": "execute_result"
    }
   ],
   "source": [
    "# Verification Token\n",
    "response = req.get(f'{ENDPOINT}?hub.verify_token={FACEBOOK_VERIFY_TOKEN}&hub.challenge=CHALLENGE_ACCEPTED&hub.mode=subscribe')\n",
    "response.url, response.status_code, response.text"
   ]
  },
  {
   "cell_type": "markdown",
   "metadata": {},
   "source": [
    "## Model testing"
   ]
  },
  {
   "cell_type": "code",
   "execution_count": 31,
   "metadata": {},
   "outputs": [],
   "source": [
    "utterances = [\n",
    "    'Quiero escuchar Beyonce',\n",
    "    'Agregame una cancion de Adele',\n",
    "    'Agregame una cancion de Adele a la lista',\n",
    "    'Quiero comer',\n",
    "    'Quiero comer cerca de Belgrano',\n",
    "    'Donde puedo',\n",
    "    'Donde puedo ver la pelicula',\n",
    "    'Donde estan proyectando',\n",
    "    'Cuales son los horarios de',\n",
    "    'En donde se puede ver',\n",
    "    'Como va a estar',\n",
    "    'Hace calor',\n",
    "    'Calificar el libro'\n",
    "]"
   ]
  },
  {
   "cell_type": "code",
   "execution_count": 32,
   "metadata": {},
   "outputs": [
    {
     "data": {
      "text/plain": [
       "<Response [200]>"
      ]
     },
     "execution_count": 32,
     "metadata": {},
     "output_type": "execute_result"
    }
   ],
   "source": [
    "utterance = utterances[0]\n",
    "response = req.post(f'{ENDPOINT}', json=utils.send_webhook_message(SENDER_ID, FANPAGE_ID, utterance))\n",
    "response"
   ]
  },
  {
   "cell_type": "markdown",
   "metadata": {},
   "source": [
    "## Graph API"
   ]
  },
  {
   "cell_type": "code",
   "execution_count": 33,
   "metadata": {},
   "outputs": [],
   "source": [
    "facebook.send_quick_reply(SENDER_ID, 'Hola desde afuera', 'Contesta', 'the_answer')"
   ]
  },
  {
   "cell_type": "code",
   "execution_count": 53,
   "metadata": {},
   "outputs": [
    {
     "name": "stdout",
     "output_type": "stream",
     "text": [
      "{\"data\":[{\"id\":\"1841779162784206\",\"name\":\"Me Me Me Bot\"},{\"id\":\"263902037430900\",\"name\":\"Page Inbox\"}]}"
     ]
    }
   ],
   "source": [
    "!curl -X GET \"https://graph.facebook.com/me/secondary_receivers?fields=id,name&access_token={FACEBOOK_ACCESS_TOKEN}\""
   ]
  },
  {
   "cell_type": "code",
   "execution_count": 46,
   "metadata": {},
   "outputs": [
    {
     "name": "stdout",
     "output_type": "stream",
     "text": [
      "{\"data\":[{\"thread_owner\":{\"app_id\":\"285801978661570\"}}]}"
     ]
    }
   ],
   "source": [
    "!curl -X GET \"https://graph.facebook.com/me/thread_owner?recipient={SENDER_ID}&access_token={FACEBOOK_ACCESS_TOKEN}\""
   ]
  },
  {
   "cell_type": "code",
   "execution_count": null,
   "metadata": {},
   "outputs": [],
   "source": [
    "%%bash\n",
    "curl -X POST -H \"Content-Type: application/json\" -d '{\n",
    " \"recipient\":{\"id\":f\"{FANPAGE_ID}\"},\n",
    " \"target_app_id\":123456789,\n",
    " \"metadata\":\"String to pass to secondary receiver app\" \n",
    "}' \"https://graph.facebook.com/v2.6/me/pass_thread_control?access_token=<PAGE_ACCESS_TOKEN>\""
   ]
  },
  {
   "cell_type": "code",
   "execution_count": 57,
   "metadata": {},
   "outputs": [],
   "source": [
    "facebook.take_thread_control(SENDER_ID)"
   ]
  },
  {
   "cell_type": "code",
   "execution_count": null,
   "metadata": {},
   "outputs": [],
   "source": []
  }
 ],
 "metadata": {
  "kernelspec": {
   "display_name": "Python 3",
   "language": "python",
   "name": "python3"
  },
  "language_info": {
   "codemirror_mode": {
    "name": "ipython",
    "version": 3
   },
   "file_extension": ".py",
   "mimetype": "text/x-python",
   "name": "python",
   "nbconvert_exporter": "python",
   "pygments_lexer": "ipython3",
   "version": "3.6.4"
  }
 },
 "nbformat": 4,
 "nbformat_minor": 2
}
