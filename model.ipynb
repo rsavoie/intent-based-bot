{
 "cells": [
  {
   "cell_type": "markdown",
   "metadata": {},
   "source": [
    "# Intent prediction model"
   ]
  },
  {
   "cell_type": "markdown",
   "metadata": {},
   "source": [
    "Model for predict the intent based on Dense NN"
   ]
  },
  {
   "cell_type": "code",
   "execution_count": 1,
   "metadata": {
    "colab": {
     "autoexec": {
      "startup": false,
      "wait_interval": 0
     }
    },
    "colab_type": "code",
    "id": "etbA24J2Xxhe"
   },
   "outputs": [
    {
     "name": "stderr",
     "output_type": "stream",
     "text": [
      "/home/ramiro/bin/anaconda3/lib/python3.6/site-packages/h5py/__init__.py:36: FutureWarning: Conversion of the second argument of issubdtype from `float` to `np.floating` is deprecated. In future, it will be treated as `np.float64 == np.dtype(float).type`.\n",
      "  from ._conv import register_converters as _register_converters\n",
      "Using TensorFlow backend.\n"
     ]
    }
   ],
   "source": [
    "import pandas as pd\n",
    "import matplotlib.pyplot as plt\n",
    "import numpy as np\n",
    "from sklearn.utils import shuffle\n",
    "import os\n",
    "from pathlib import Path\n",
    "import pickle\n",
    "\n",
    "from keras.preprocessing.sequence import pad_sequences\n",
    "from keras.models import Sequential\n",
    "from keras.layers import Flatten, Dense, Embedding, SimpleRNN, LSTM\n",
    "from keras.preprocessing.text import Tokenizer\n",
    "from sklearn.preprocessing import LabelEncoder\n",
    "from keras.utils.np_utils import to_categorical\n",
    "from sklearn.model_selection import train_test_split"
   ]
  },
  {
   "cell_type": "code",
   "execution_count": 2,
   "metadata": {},
   "outputs": [],
   "source": [
    "pd.set_option('display.max_colwidth', -1)"
   ]
  },
  {
   "cell_type": "markdown",
   "metadata": {},
   "source": [
    "## Training dataset"
   ]
  },
  {
   "cell_type": "code",
   "execution_count": 3,
   "metadata": {},
   "outputs": [],
   "source": [
    "# dataset_path = 'data/snips_utterances.csv'\n",
    "# intent_column = 'Intention'\n",
    "# utterance = 'English'\n",
    "# utterance = 'Spanish'\n",
    "\n",
    "# print('Loading Dataset', dataset_path)\n",
    "# all_intents_df = pd.read_csv(dataset_path)"
   ]
  },
  {
   "cell_type": "code",
   "execution_count": 4,
   "metadata": {},
   "outputs": [],
   "source": [
    "company_name = 'smartfix'\n",
    "corpus_status = 'tagged'\n",
    "intent_column = 'intent'\n",
    "utterance = 'client_said_cleaned'"
   ]
  },
  {
   "cell_type": "code",
   "execution_count": 5,
   "metadata": {},
   "outputs": [],
   "source": [
    "all_intents_df = pd.read_pickle(os.path.join('datasets', corpus_status, f'{company_name}_client_said_{corpus_status}.pkl'))"
   ]
  },
  {
   "cell_type": "code",
   "execution_count": 6,
   "metadata": {},
   "outputs": [
    {
     "name": "stdout",
     "output_type": "stream",
     "text": [
      "<class 'pandas.core.frame.DataFrame'>\n",
      "RangeIndex: 3900 entries, 0 to 3899\n",
      "Data columns (total 3 columns):\n",
      "client_said_cleaned    3900 non-null object\n",
      "intent                 3900 non-null object\n",
      "confidence             3900 non-null float64\n",
      "dtypes: float64(1), object(2)\n",
      "memory usage: 91.5+ KB\n"
     ]
    }
   ],
   "source": [
    "all_intents_df.info()"
   ]
  },
  {
   "cell_type": "code",
   "execution_count": 49,
   "metadata": {},
   "outputs": [
    {
     "data": {
      "text/html": [
       "<div>\n",
       "<style scoped>\n",
       "    .dataframe tbody tr th:only-of-type {\n",
       "        vertical-align: middle;\n",
       "    }\n",
       "\n",
       "    .dataframe tbody tr th {\n",
       "        vertical-align: top;\n",
       "    }\n",
       "\n",
       "    .dataframe thead th {\n",
       "        text-align: right;\n",
       "    }\n",
       "</style>\n",
       "<table border=\"1\" class=\"dataframe\">\n",
       "  <thead>\n",
       "    <tr style=\"text-align: right;\">\n",
       "      <th></th>\n",
       "      <th>client_said_cleaned</th>\n",
       "      <th>intent</th>\n",
       "      <th>confidence</th>\n",
       "    </tr>\n",
       "  </thead>\n",
       "  <tbody>\n",
       "    <tr>\n",
       "      <th>1038</th>\n",
       "      <td>[cuanto, cuesta, repasar, pantalla, iphone, plus, paloma, prefiero, llamen, mejor]</td>\n",
       "      <td>reparacionesiphone</td>\n",
       "      <td>0.926940</td>\n",
       "    </tr>\n",
       "    <tr>\n",
       "      <th>1457</th>\n",
       "      <td>[gilberto, tarde]</td>\n",
       "      <td>garantiaimpresorahp</td>\n",
       "      <td>0.731908</td>\n",
       "    </tr>\n",
       "    <tr>\n",
       "      <th>2815</th>\n",
       "      <td>[mac, aparece, folder, parpadea, alex, tel, setis, ahora, mismo, ubicacion, ustedes]</td>\n",
       "      <td>problemascomputadora</td>\n",
       "      <td>0.756041</td>\n",
       "    </tr>\n",
       "    <tr>\n",
       "      <th>2860</th>\n",
       "      <td>[antonio, vera, dejo, correo, conmigo, telefono, momento]</td>\n",
       "      <td>reparacionesiphone</td>\n",
       "      <td>0.897610</td>\n",
       "    </tr>\n",
       "    <tr>\n",
       "      <th>3731</th>\n",
       "      <td>[doris, despues, perfecto, basicamente, consulta, puedo, actualizar, tarjeta, video, equipo, hp]</td>\n",
       "      <td>problemascomputadora</td>\n",
       "      <td>0.814800</td>\n",
       "    </tr>\n",
       "    <tr>\n",
       "      <th>730</th>\n",
       "      <td>[gustaria, sucursales, precio, pantalla, iphone, diego, celular]</td>\n",
       "      <td>reparacionesiphone</td>\n",
       "      <td>0.898299</td>\n",
       "    </tr>\n",
       "    <tr>\n",
       "      <th>2018</th>\n",
       "      <td>[podrias, decir, precio, cambiar, pantalla, iphone, ortiz, pronto, posible]</td>\n",
       "      <td>reparacionesiphone</td>\n",
       "      <td>0.919149</td>\n",
       "    </tr>\n",
       "    <tr>\n",
       "      <th>334</th>\n",
       "      <td>[gustaria, costo, reparacion, iphone, angel, despues, pm]</td>\n",
       "      <td>reparacionesiphone</td>\n",
       "      <td>0.898992</td>\n",
       "    </tr>\n",
       "    <tr>\n",
       "      <th>3832</th>\n",
       "      <td>[sandy, vinene, domicilio, realizar, compostura, multifuncional, hp, aracely, claro, gusto, email, quedo, pendiente, nop, realmente]</td>\n",
       "      <td>garantiaimpresorahp</td>\n",
       "      <td>0.755271</td>\n",
       "    </tr>\n",
       "    <tr>\n",
       "      <th>1717</th>\n",
       "      <td>[nayeli, cotizar, cuanto, sale, arreglar, pantalla, iphone, nayeli, carrillo]</td>\n",
       "      <td>reparacionesiphone</td>\n",
       "      <td>0.813230</td>\n",
       "    </tr>\n",
       "  </tbody>\n",
       "</table>\n",
       "</div>"
      ],
      "text/plain": [
       "                                                                                                                       client_said_cleaned  \\\n",
       "1038  [cuanto, cuesta, repasar, pantalla, iphone, plus, paloma, prefiero, llamen, mejor]                                                     \n",
       "1457  [gilberto, tarde]                                                                                                                      \n",
       "2815  [mac, aparece, folder, parpadea, alex, tel, setis, ahora, mismo, ubicacion, ustedes]                                                   \n",
       "2860  [antonio, vera, dejo, correo, conmigo, telefono, momento]                                                                              \n",
       "3731  [doris, despues, perfecto, basicamente, consulta, puedo, actualizar, tarjeta, video, equipo, hp]                                       \n",
       "730   [gustaria, sucursales, precio, pantalla, iphone, diego, celular]                                                                       \n",
       "2018  [podrias, decir, precio, cambiar, pantalla, iphone, ortiz, pronto, posible]                                                            \n",
       "334   [gustaria, costo, reparacion, iphone, angel, despues, pm]                                                                              \n",
       "3832  [sandy, vinene, domicilio, realizar, compostura, multifuncional, hp, aracely, claro, gusto, email, quedo, pendiente, nop, realmente]   \n",
       "1717  [nayeli, cotizar, cuanto, sale, arreglar, pantalla, iphone, nayeli, carrillo]                                                          \n",
       "\n",
       "                    intent  confidence  \n",
       "1038  reparacionesiphone    0.926940    \n",
       "1457  garantiaimpresorahp   0.731908    \n",
       "2815  problemascomputadora  0.756041    \n",
       "2860  reparacionesiphone    0.897610    \n",
       "3731  problemascomputadora  0.814800    \n",
       "730   reparacionesiphone    0.898299    \n",
       "2018  reparacionesiphone    0.919149    \n",
       "334   reparacionesiphone    0.898992    \n",
       "3832  garantiaimpresorahp   0.755271    \n",
       "1717  reparacionesiphone    0.813230    "
      ]
     },
     "execution_count": 49,
     "metadata": {},
     "output_type": "execute_result"
    }
   ],
   "source": [
    "all_intents_df.sample(10)"
   ]
  },
  {
   "cell_type": "code",
   "execution_count": 8,
   "metadata": {},
   "outputs": [
    {
     "data": {
      "text/plain": [
       "65"
      ]
     },
     "execution_count": 8,
     "metadata": {},
     "output_type": "execute_result"
    }
   ],
   "source": [
    "# Max length of the utterances\n",
    "all_intents_df[utterance].str.len().max()"
   ]
  },
  {
   "cell_type": "code",
   "execution_count": 9,
   "metadata": {},
   "outputs": [],
   "source": [
    "### Model hyperparameters\n",
    "# Cutting the utterances in this length\n",
    "max_len = 200\n",
    "\n",
    "# Over the 'max_words' most frequent words.\n",
    "max_words = 10000\n",
    "\n",
    "# Dimensions of the selected Embedding\n",
    "# embedding_dim = 100\n",
    "embedding_dim = 300"
   ]
  },
  {
   "cell_type": "code",
   "execution_count": 10,
   "metadata": {
    "colab": {
     "autoexec": {
      "startup": false,
      "wait_interval": 0
     }
    },
    "colab_type": "code",
    "id": "wnus8bouXxiQ",
    "outputId": "54fa5eba-3364-4acb-aeb0-fea33622a2a9"
   },
   "outputs": [
    {
     "name": "stdout",
     "output_type": "stream",
     "text": [
      "Checking balancing of classes\n"
     ]
    },
    {
     "data": {
      "text/plain": [
       "reparacionesiphone        2537\n",
       "serviciosucursallaptop    772 \n",
       "problemascomputadora      260 \n",
       "garantiaimpresorahp       196 \n",
       "serviciotecnicohp         135 \n",
       "Name: intent, dtype: int64"
      ]
     },
     "execution_count": 10,
     "metadata": {},
     "output_type": "execute_result"
    }
   ],
   "source": [
    "print('Checking balancing of classes')\n",
    "all_intents_df[intent_column].value_counts()"
   ]
  },
  {
   "cell_type": "code",
   "execution_count": 11,
   "metadata": {},
   "outputs": [
    {
     "name": "stdout",
     "output_type": "stream",
     "text": [
      "Amount of classes 5\n"
     ]
    }
   ],
   "source": [
    "classes_amount = len(all_intents_df[intent_column].value_counts())\n",
    "print('Amount of classes', classes_amount)"
   ]
  },
  {
   "cell_type": "code",
   "execution_count": 12,
   "metadata": {},
   "outputs": [],
   "source": [
    "# Filter by confidence factor\n",
    "# all_intents_df[(all_intents_df['%cluster'] >= 0.5)].count(axis=0)"
   ]
  },
  {
   "cell_type": "code",
   "execution_count": 13,
   "metadata": {
    "colab": {
     "autoexec": {
      "startup": false,
      "wait_interval": 0
     }
    },
    "colab_type": "code",
    "id": "91d1p_BwXxid"
   },
   "outputs": [
    {
     "name": "stdout",
     "output_type": "stream",
     "text": [
      "Shuffling the dataset (intents come ordered)\n"
     ]
    }
   ],
   "source": [
    "print('Shuffling the dataset (intents come ordered)')\n",
    "all_intents_df = shuffle(all_intents_df)"
   ]
  },
  {
   "cell_type": "code",
   "execution_count": 14,
   "metadata": {
    "colab": {
     "autoexec": {
      "startup": false,
      "wait_interval": 0
     }
    },
    "colab_type": "code",
    "id": "Fspfsn62Xxit"
   },
   "outputs": [
    {
     "name": "stdout",
     "output_type": "stream",
     "text": [
      "Converting dataframe columns \"client_said_cleaned\" and \"intent\" into lists\n"
     ]
    }
   ],
   "source": [
    "print(f'Converting dataframe columns \"{utterance}\" and \"{intent_column}\" into lists')\n",
    "sentences_list = all_intents_df[utterance].tolist()\n",
    "intents_list = all_intents_df[intent_column].tolist()"
   ]
  },
  {
   "cell_type": "code",
   "execution_count": 15,
   "metadata": {
    "colab": {
     "autoexec": {
      "startup": false,
      "wait_interval": 0
     }
    },
    "colab_type": "code",
    "id": "jlTaU9GHXxiz",
    "outputId": "8a056fbb-5e86-4118-f960-5386eb75625e"
   },
   "outputs": [
    {
     "name": "stdout",
     "output_type": "stream",
     "text": [
      "Checking the size of the lists (3900, 3900)\n"
     ]
    }
   ],
   "source": [
    "print('Checking the size of the lists', (len(sentences_list), len(intents_list)))"
   ]
  },
  {
   "cell_type": "markdown",
   "metadata": {},
   "source": [
    "## Tokenization and padding of data"
   ]
  },
  {
   "cell_type": "code",
   "execution_count": 16,
   "metadata": {},
   "outputs": [],
   "source": [
    "def fit_tokenizer(sentences_list, max_words=10000, test_word='book'):\n",
    "    \"\"\"\n",
    "        Fit a Keras Tokenizer based on sentences_list\n",
    "    \"\"\"\n",
    "    tokenizer = Tokenizer(num_words=max_words)\n",
    "    tokenizer.fit_on_texts(sentences_list)\n",
    "    \n",
    "    # Internal word_index of the tokenizer\n",
    "    word_index = tokenizer.word_index\n",
    "    \n",
    "    print('Vocabulary of the corpora', len(word_index))\n",
    "    print(f'Index of the word {test_word}', word_index[test_word])\n",
    "    \n",
    "    # TODO Save this tokenizer for predictions\n",
    "    with open(os.path.join('dist', 'models', f'tokenizer_{company_name}.pickle'), 'wb') as handle:\n",
    "        pickle.dump(tokenizer, handle, protocol=pickle.HIGHEST_PROTOCOL)\n",
    "        print('Tokenizer saved')\n",
    "    \n",
    "    return tokenizer"
   ]
  },
  {
   "cell_type": "code",
   "execution_count": 17,
   "metadata": {
    "colab": {
     "autoexec": {
      "startup": false,
      "wait_interval": 0
     }
    },
    "colab_type": "code",
    "id": "eMGelBSWXxi4"
   },
   "outputs": [
    {
     "name": "stdout",
     "output_type": "stream",
     "text": [
      "Vocabulary of the corpora 4751\n",
      "Index of the word seguro 1202\n",
      "Tokenizer saved\n"
     ]
    }
   ],
   "source": [
    "tokenizer = fit_tokenizer(sentences_list, max_words, 'seguro')"
   ]
  },
  {
   "cell_type": "code",
   "execution_count": 18,
   "metadata": {},
   "outputs": [],
   "source": [
    "def vectorize_and_pad_sequences(sentences_list, tokenizer):\n",
    "    print('Converting {} sentences into indices with given tokenizer'.format(len(sentences_list)))\n",
    "    sequences = tokenizer.texts_to_sequences(sentences_list)\n",
    "    print('Checking indices of first word', sequences[0][:10])\n",
    "    \n",
    "    # Transforms the sequences into 2D tensors of shape (sample, maxlen)\n",
    "    # Padding to the right data[0, :]\n",
    "    data = pad_sequences(sequences, maxlen=max_len)\n",
    "    print('Shape of padded sequences', data.shape)\n",
    "    \n",
    "    return data"
   ]
  },
  {
   "cell_type": "code",
   "execution_count": 19,
   "metadata": {
    "colab": {
     "autoexec": {
      "startup": false,
      "wait_interval": 0
     }
    },
    "colab_type": "code",
    "id": "JKHCoB_9XxjT",
    "outputId": "e0b7428f-6c6d-4d10-e8aa-078cbeb7c02f"
   },
   "outputs": [
    {
     "name": "stdout",
     "output_type": "stream",
     "text": [
      "Converting 3900 sentences into indices with given tokenizer\n",
      "Checking indices of first word [7, 5, 2, 1, 12, 252, 34, 35, 508, 72]\n",
      "Shape of padded sequences (3900, 200)\n"
     ]
    }
   ],
   "source": [
    "data = vectorize_and_pad_sequences(sentences_list, tokenizer)"
   ]
  },
  {
   "cell_type": "markdown",
   "metadata": {},
   "source": [
    "## Encoding and one hot of targets"
   ]
  },
  {
   "cell_type": "code",
   "execution_count": 20,
   "metadata": {},
   "outputs": [],
   "source": [
    "def fit_encoder(intents_list):\n",
    "    \"\"\"\n",
    "        Fit a Sklearn LabelEncoder based on intents_list\n",
    "    \"\"\"    \n",
    "    encoder = LabelEncoder()\n",
    "    print('Fitting a LabelEncoder with given target')\n",
    "    encoder.fit(intents_list)    \n",
    "    \n",
    "    print('Found classes', encoder.classes_)\n",
    "    print('Testing encoder', encoder.transform(encoder.classes_))\n",
    "    \n",
    "    np.save(os.path.join('dist', 'models', f'classes_{company_name}.npy'), encoder.classes_)\n",
    "    print('Encoder saved')\n",
    "    return encoder"
   ]
  },
  {
   "cell_type": "code",
   "execution_count": 21,
   "metadata": {},
   "outputs": [
    {
     "name": "stdout",
     "output_type": "stream",
     "text": [
      "Fitting a LabelEncoder with given target\n",
      "Found classes ['garantiaimpresorahp' 'problemascomputadora' 'reparacionesiphone'\n",
      " 'serviciosucursallaptop' 'serviciotecnicohp']\n",
      "Testing encoder [0 1 2 3 4]\n",
      "Encoder saved\n"
     ]
    }
   ],
   "source": [
    "encoder = fit_encoder(intents_list)"
   ]
  },
  {
   "cell_type": "code",
   "execution_count": 22,
   "metadata": {},
   "outputs": [],
   "source": [
    "def encode_and_one_hot_target(intents_list, encoder):\n",
    "    print('Encoding target with given encoder')\n",
    "    intents_encoded = encoder.transform(intents_list)\n",
    "\n",
    "    print('Convert encoded classes integers to dummy variables')\n",
    "    intents_one_hot = to_categorical(intents_encoded)\n",
    "    \n",
    "    print('Target final shape', intents_one_hot.shape)\n",
    "    return intents_one_hot"
   ]
  },
  {
   "cell_type": "code",
   "execution_count": 23,
   "metadata": {},
   "outputs": [
    {
     "name": "stdout",
     "output_type": "stream",
     "text": [
      "Encoding target with given encoder\n",
      "Convert encoded classes integers to dummy variables\n",
      "Target final shape (3900, 5)\n"
     ]
    }
   ],
   "source": [
    "intents_one_hot = encode_and_one_hot_target(intents_list, encoder)"
   ]
  },
  {
   "cell_type": "code",
   "execution_count": 24,
   "metadata": {
    "colab": {
     "autoexec": {
      "startup": false,
      "wait_interval": 0
     }
    },
    "colab_type": "code",
    "id": "sAoN39j-XxkT"
   },
   "outputs": [],
   "source": [
    "X_train, X_test, y_train, y_test = train_test_split(data, intents_one_hot, random_state=1, test_size = .33)"
   ]
  },
  {
   "cell_type": "code",
   "execution_count": 25,
   "metadata": {
    "colab": {
     "autoexec": {
      "startup": false,
      "wait_interval": 0
     }
    },
    "colab_type": "code",
    "id": "TYkm8e0vXxkk",
    "outputId": "90dfc4b3-812d-436f-84da-f040366980fd"
   },
   "outputs": [
    {
     "data": {
      "text/plain": [
       "((2613, 200), (1287, 200))"
      ]
     },
     "execution_count": 25,
     "metadata": {},
     "output_type": "execute_result"
    }
   ],
   "source": [
    "X_train.shape, X_test.shape"
   ]
  },
  {
   "cell_type": "code",
   "execution_count": 26,
   "metadata": {
    "colab": {
     "autoexec": {
      "startup": false,
      "wait_interval": 0
     }
    },
    "colab_type": "code",
    "id": "sABXzSoMXxkr",
    "outputId": "fd77c701-ee78-4a4e-eff4-3b7faea48e58"
   },
   "outputs": [
    {
     "data": {
      "text/plain": [
       "((2613, 5), (1287, 5))"
      ]
     },
     "execution_count": 26,
     "metadata": {},
     "output_type": "execute_result"
    }
   ],
   "source": [
    "y_train.shape, y_test.shape"
   ]
  },
  {
   "cell_type": "markdown",
   "metadata": {
    "colab_type": "text",
    "id": "RVy82RKSXxk2"
   },
   "source": [
    "## Embedding initialization"
   ]
  },
  {
   "cell_type": "code",
   "execution_count": 27,
   "metadata": {},
   "outputs": [],
   "source": [
    "def get_embedding(embedding_file_name, dim_size = 100, test_word='book'):\n",
    "    \"\"\"\n",
    "        Builds a dictionary {'token': [embedding vector]}\n",
    "        :dim_size: Could be 50, 100, 200, 300\n",
    "    \"\"\"\n",
    "    embedding_path = os.path.join(os.getcwd(), 'embeddings', embedding_file_name)\n",
    "    print('Will load the following embedding', embedding_file_name)\n",
    "    embeddings_index = {}\n",
    "    with open(os.path.join(os.getcwd(), 'embeddings', embedding_file_name)) as embedding_file:\n",
    "        for embedding_line in embedding_file.readlines():\n",
    "            token = embedding_line.split()[0]\n",
    "            vector = np.asarray(embedding_line.split()[1:], dtype='float32') # Toda su representacion como Embedding\n",
    "            embeddings_index[token] = vector\n",
    "    \n",
    "    print('Found {} word vectors.'.format(len(embeddings_index)))\n",
    "    print('Checking shape', embeddings_index[test_word].shape)\n",
    "    # print('Checking vector', embeddings_index['sandberger'][:100])\n",
    "    \n",
    "    return embeddings_index"
   ]
  },
  {
   "cell_type": "code",
   "execution_count": 28,
   "metadata": {},
   "outputs": [
    {
     "name": "stdout",
     "output_type": "stream",
     "text": [
      "Will load the following embedding glove-sbwc.i25.vec\n",
      "Found 855381 word vectors.\n",
      "Checking shape (300,)\n",
      "CPU times: user 1min 32s, sys: 3.54 s, total: 1min 35s\n",
      "Wall time: 1min 36s\n"
     ]
    }
   ],
   "source": [
    "%%time\n",
    "# embedding_file_name = f'glove.6B.{dim_size}d.txt'\n",
    "# embedding_file_name = f'cc.es.{dim_size}.vec'\n",
    "# cc.es.300.vec\n",
    "embeddings_index = get_embedding(embedding_file_name = 'glove-sbwc.i25.vec', dim_size = embedding_dim, test_word = 'libro')"
   ]
  },
  {
   "cell_type": "code",
   "execution_count": 29,
   "metadata": {},
   "outputs": [],
   "source": [
    "def build_embedding_matrix(max_words, tokenizer):\n",
    "    # Building the matrix for feed the embedding, has to be of shape (max_words, embedding_dim)\n",
    "    embedding_matrix = np.zeros((max_words, embedding_dim))\n",
    "    print('Initalizing zeros matrix of shape', embedding_matrix.shape)\n",
    "    \n",
    "    # tokenizer.word_index, el diccionario que definimos antes en el tokenizador con (token, indice)\n",
    "    for word, i in tokenizer.word_index.items():\n",
    "        # Para no pasarnos del indice 10.000\n",
    "        if i < max_words:\n",
    "            # Buscamos la palabra en el embedding index\n",
    "            embedding_vector = embeddings_index.get(word)\n",
    "            # Las palabras que no encontramos en el embedding van a ser todos cero\n",
    "            if embedding_vector is not None:\n",
    "                embedding_matrix[i] = embedding_vector\n",
    "    \n",
    "    print('Checking representation of word 123', embedding_matrix[123][:100])\n",
    "    return embedding_matrix"
   ]
  },
  {
   "cell_type": "code",
   "execution_count": 30,
   "metadata": {},
   "outputs": [
    {
     "name": "stdout",
     "output_type": "stream",
     "text": [
      "Initalizing zeros matrix of shape (10000, 300)\n",
      "Checking representation of word 123 [ 0.35349101  0.10541    -0.32358199 -0.23850299 -0.83185703 -0.23150501\n",
      "  0.151935    0.161157   -0.014674    0.31655401  0.213974    0.43145001\n",
      " -0.248391   -0.31201899  0.10623     0.478387   -0.054389   -0.031517\n",
      " -0.23394699  0.77880299 -0.059147   -0.173004   -0.077073   -0.39445099\n",
      "  0.81600797 -0.24234401  0.024132    0.82057703 -0.16243     0.49074599\n",
      "  0.425596   -0.124433    0.058789   -0.003485   -0.266312   -0.54329097\n",
      " -0.476188   -0.125707    0.064041    0.64513397  0.247603    0.40144399\n",
      " -0.441311   -0.22045     0.057502    0.62561297  0.36788201  0.18363801\n",
      "  0.033948    0.18996701  0.23756599  0.59970403 -0.53585303 -0.120475\n",
      "  0.331552   -0.58629203  0.67383099 -0.225804    0.467343   -0.25245699\n",
      "  0.003922    0.77041    -0.73519099 -0.098858    0.100643    0.071339\n",
      " -0.100076    0.351533   -0.13006701 -0.69335902 -0.44977301 -0.406055\n",
      "  0.26262501 -0.074805    0.004797    0.82135302 -0.086564   -0.058328\n",
      " -0.79782897 -0.83896101  0.28637001 -0.604864   -0.016189   -0.35275799\n",
      " -0.146787    0.059073    0.240227   -0.223294    0.19380701  0.334454\n",
      "  0.27808499 -0.005952    0.166146    0.28286201  0.28139099 -0.046751\n",
      " -0.26831201  0.228212   -0.053903   -0.25912201]\n"
     ]
    }
   ],
   "source": [
    "embedding_matrix = build_embedding_matrix(max_words, tokenizer)"
   ]
  },
  {
   "cell_type": "markdown",
   "metadata": {
    "colab_type": "text",
    "id": "v7Xumu8vXxml"
   },
   "source": [
    "## Model"
   ]
  },
  {
   "cell_type": "code",
   "execution_count": 31,
   "metadata": {
    "colab": {
     "autoexec": {
      "startup": false,
      "wait_interval": 0
     }
    },
    "colab_type": "code",
    "id": "FFg8dEGLXxmm",
    "outputId": "9640db5e-bea4-4d40-941f-fd82a42f2202"
   },
   "outputs": [
    {
     "name": "stdout",
     "output_type": "stream",
     "text": [
      "_________________________________________________________________\n",
      "Layer (type)                 Output Shape              Param #   \n",
      "=================================================================\n",
      "embedding_1 (Embedding)      (None, 200, 300)          3000000   \n",
      "_________________________________________________________________\n",
      "flatten_1 (Flatten)          (None, 60000)             0         \n",
      "_________________________________________________________________\n",
      "dense_1 (Dense)              (None, 32)                1920032   \n",
      "_________________________________________________________________\n",
      "dense_2 (Dense)              (None, 5)                 165       \n",
      "=================================================================\n",
      "Total params: 4,920,197\n",
      "Trainable params: 4,920,197\n",
      "Non-trainable params: 0\n",
      "_________________________________________________________________\n"
     ]
    }
   ],
   "source": [
    "model = Sequential()\n",
    "model.add(Embedding(max_words, embedding_dim, input_length=max_len))\n",
    "model.add(Flatten())\n",
    "model.add(Dense(32, activation='relu'))\n",
    "model.add(Dense(classes_amount, activation='softmax'))\n",
    "\n",
    "model.summary()"
   ]
  },
  {
   "cell_type": "code",
   "execution_count": 32,
   "metadata": {
    "colab": {
     "autoexec": {
      "startup": false,
      "wait_interval": 0
     }
    },
    "colab_type": "code",
    "id": "7kuWSHtUXxnE"
   },
   "outputs": [],
   "source": [
    "# Conocimiento de la capa, cada fila es la palabra con el indice i\n",
    "model.layers[0].set_weights([embedding_matrix])\n",
    "model.layers[0].trainable = False"
   ]
  },
  {
   "cell_type": "code",
   "execution_count": 33,
   "metadata": {
    "colab": {
     "autoexec": {
      "startup": false,
      "wait_interval": 0
     }
    },
    "colab_type": "code",
    "id": "Mjfg-d5pXxnJ"
   },
   "outputs": [],
   "source": [
    "model.compile(optimizer='rmsprop', loss='categorical_crossentropy', metrics=['acc'])"
   ]
  },
  {
   "cell_type": "code",
   "execution_count": 34,
   "metadata": {
    "colab": {
     "autoexec": {
      "startup": false,
      "wait_interval": 0
     }
    },
    "colab_type": "code",
    "id": "h5GvVBCOXxnV",
    "outputId": "9df4957f-54a1-4b13-8b2c-439a92326bfa"
   },
   "outputs": [
    {
     "name": "stdout",
     "output_type": "stream",
     "text": [
      "_________________________________________________________________\n",
      "Layer (type)                 Output Shape              Param #   \n",
      "=================================================================\n",
      "embedding_1 (Embedding)      (None, 200, 300)          3000000   \n",
      "_________________________________________________________________\n",
      "flatten_1 (Flatten)          (None, 60000)             0         \n",
      "_________________________________________________________________\n",
      "dense_1 (Dense)              (None, 32)                1920032   \n",
      "_________________________________________________________________\n",
      "dense_2 (Dense)              (None, 5)                 165       \n",
      "=================================================================\n",
      "Total params: 4,920,197\n",
      "Trainable params: 1,920,197\n",
      "Non-trainable params: 3,000,000\n",
      "_________________________________________________________________\n"
     ]
    }
   ],
   "source": [
    "model.summary()"
   ]
  },
  {
   "cell_type": "code",
   "execution_count": 35,
   "metadata": {
    "colab": {
     "autoexec": {
      "startup": false,
      "wait_interval": 0
     }
    },
    "colab_type": "code",
    "id": "t8vbnkc2Xxnd",
    "outputId": "5ba9ed9e-2ce9-4d8a-9261-2450d556b06c"
   },
   "outputs": [
    {
     "name": "stdout",
     "output_type": "stream",
     "text": [
      "Train on 2090 samples, validate on 523 samples\n",
      "Epoch 1/10\n",
      "2090/2090 [==============================] - 3s 1ms/step - loss: 0.7298 - acc: 0.7316 - val_loss: 0.5977 - val_acc: 0.7878\n",
      "Epoch 2/10\n",
      "2090/2090 [==============================] - 3s 1ms/step - loss: 0.3429 - acc: 0.8818 - val_loss: 0.5350 - val_acc: 0.7954\n",
      "Epoch 3/10\n",
      "2090/2090 [==============================] - 3s 1ms/step - loss: 0.1668 - acc: 0.9589 - val_loss: 0.5629 - val_acc: 0.7935\n",
      "Epoch 4/10\n",
      "2090/2090 [==============================] - 3s 1ms/step - loss: 0.0851 - acc: 0.9856 - val_loss: 0.6362 - val_acc: 0.7935\n",
      "Epoch 5/10\n",
      "2090/2090 [==============================] - 3s 1ms/step - loss: 0.0428 - acc: 0.9952 - val_loss: 0.7106 - val_acc: 0.7820\n",
      "Epoch 6/10\n",
      "2090/2090 [==============================] - 3s 1ms/step - loss: 0.0218 - acc: 0.9976 - val_loss: 0.8083 - val_acc: 0.7782\n",
      "Epoch 7/10\n",
      "2090/2090 [==============================] - 3s 2ms/step - loss: 0.0115 - acc: 0.9986 - val_loss: 0.8817 - val_acc: 0.7820\n",
      "Epoch 8/10\n",
      "2090/2090 [==============================] - 3s 1ms/step - loss: 0.0053 - acc: 0.9995 - val_loss: 1.0019 - val_acc: 0.7782\n",
      "Epoch 9/10\n",
      "2090/2090 [==============================] - 3s 1ms/step - loss: 0.0027 - acc: 1.0000 - val_loss: 1.0981 - val_acc: 0.7820\n",
      "Epoch 10/10\n",
      "2090/2090 [==============================] - 3s 1ms/step - loss: 0.0014 - acc: 1.0000 - val_loss: 1.2043 - val_acc: 0.7725\n",
      "CPU times: user 44.8 s, sys: 19.7 s, total: 1min 4s\n",
      "Wall time: 28.8 s\n"
     ]
    }
   ],
   "source": [
    "%%time\n",
    "history = model.fit(X_train, y_train, epochs=10, batch_size=32, validation_split=0.2)"
   ]
  },
  {
   "cell_type": "code",
   "execution_count": 2,
   "metadata": {},
   "outputs": [
    {
     "ename": "NameError",
     "evalue": "name 'model' is not defined",
     "output_type": "error",
     "traceback": [
      "\u001b[0;31m---------------------------------------------------------------------------\u001b[0m",
      "\u001b[0;31mNameError\u001b[0m                                 Traceback (most recent call last)",
      "\u001b[0;32m<ipython-input-2-f5d20f87b37c>\u001b[0m in \u001b[0;36m<module>\u001b[0;34m()\u001b[0m\n\u001b[1;32m      1\u001b[0m \u001b[0;31m# Serialize model to JSON\u001b[0m\u001b[0;34m\u001b[0m\u001b[0;34m\u001b[0m\u001b[0m\n\u001b[0;32m----> 2\u001b[0;31m \u001b[0mmodel_json\u001b[0m \u001b[0;34m=\u001b[0m \u001b[0mmodel\u001b[0m\u001b[0;34m.\u001b[0m\u001b[0mto_json\u001b[0m\u001b[0;34m(\u001b[0m\u001b[0;34m)\u001b[0m\u001b[0;34m\u001b[0m\u001b[0m\n\u001b[0m\u001b[1;32m      3\u001b[0m \u001b[0;32mwith\u001b[0m \u001b[0mopen\u001b[0m\u001b[0;34m(\u001b[0m\u001b[0mos\u001b[0m\u001b[0;34m.\u001b[0m\u001b[0mpath\u001b[0m\u001b[0;34m.\u001b[0m\u001b[0mjoin\u001b[0m\u001b[0;34m(\u001b[0m\u001b[0;34m'dist'\u001b[0m\u001b[0;34m,\u001b[0m \u001b[0;34m'models'\u001b[0m\u001b[0;34m,\u001b[0m \u001b[0;34mf'model_{company_name}.json'\u001b[0m\u001b[0;34m)\u001b[0m\u001b[0;34m,\u001b[0m \u001b[0;34m\"w\"\u001b[0m\u001b[0;34m)\u001b[0m \u001b[0;32mas\u001b[0m \u001b[0mjson_file\u001b[0m\u001b[0;34m:\u001b[0m\u001b[0;34m\u001b[0m\u001b[0m\n\u001b[1;32m      4\u001b[0m     \u001b[0mjson_file\u001b[0m\u001b[0;34m.\u001b[0m\u001b[0mwrite\u001b[0m\u001b[0;34m(\u001b[0m\u001b[0mmodel_json\u001b[0m\u001b[0;34m)\u001b[0m\u001b[0;34m\u001b[0m\u001b[0m\n\u001b[1;32m      5\u001b[0m \u001b[0;34m\u001b[0m\u001b[0m\n",
      "\u001b[0;31mNameError\u001b[0m: name 'model' is not defined"
     ]
    }
   ],
   "source": [
    "# Serialize model to JSON\n",
    "model_json = model.to_json()\n",
    "with open(os.path.join('dist', 'models', f'model_{company_name}.json'), \"w\") as json_file:\n",
    "    json_file.write(model_json)\n",
    "\n",
    "# Serialize weights to HDF5\n",
    "model.save_weights(os.path.join('dist', 'models', f'model_{company_name}.h5'))\n",
    "print(\"Saved model to disk\")"
   ]
  },
  {
   "cell_type": "markdown",
   "metadata": {},
   "source": [
    "## Performance"
   ]
  },
  {
   "cell_type": "code",
   "execution_count": 37,
   "metadata": {},
   "outputs": [],
   "source": [
    "def print_figure(training_values, validation_values, metric):\n",
    "    # Usamos un range para generar una serie entera\n",
    "    epochs = range(1, len(training_values) + 1)\n",
    "    \n",
    "    plt.clf()\n",
    "    plt.plot(epochs, training_values, 'bo', label='Training ' + metric) # bo es blue dot\n",
    "    plt.plot(epochs, validation_values, 'b', label='Validation ' + metric)\n",
    "    plt.title('Training and validation ' + metric)\n",
    "    plt.xlabel('Epochs')\n",
    "    plt.ylabel(metric)\n",
    "    plt.legend()\n",
    "\n",
    "    plt.show()    "
   ]
  },
  {
   "cell_type": "code",
   "execution_count": 38,
   "metadata": {},
   "outputs": [],
   "source": [
    "def print_loss(history):\n",
    "    history_dict = history.history\n",
    "    loss_values = history_dict['loss']\n",
    "    val_loss_values = history_dict['val_loss']\n",
    "    \n",
    "    print_figure(loss_values, val_loss_values, 'Loss')"
   ]
  },
  {
   "cell_type": "code",
   "execution_count": 39,
   "metadata": {},
   "outputs": [],
   "source": [
    "def print_acc(history):\n",
    "    history_dict = history.history\n",
    "    acc_values = history_dict['acc']\n",
    "    val_acc_values = history_dict['val_acc']\n",
    "    \n",
    "    print_figure(acc_values, val_acc_values, 'Accuracy')"
   ]
  },
  {
   "cell_type": "code",
   "execution_count": 40,
   "metadata": {},
   "outputs": [
    {
     "data": {
      "image/png": "[encoded data removed]",
      "text/plain": [
       "<matplotlib.figure.Figure at 0x7f3790a65860>"
      ]
     },
     "metadata": {},
     "output_type": "display_data"
    }
   ],
   "source": [
    "print_loss(history)"
   ]
  },
  {
   "cell_type": "code",
   "execution_count": 41,
   "metadata": {},
   "outputs": [
    {
     "data": {
      "image/png": "[encoded data removed]",
      "text/plain": [
       "<matplotlib.figure.Figure at 0x7f37883b40f0>"
      ]
     },
     "metadata": {},
     "output_type": "display_data"
    }
   ],
   "source": [
    "print_acc(history)"
   ]
  },
  {
   "cell_type": "code",
   "execution_count": 42,
   "metadata": {
    "colab": {
     "autoexec": {
      "startup": false,
      "wait_interval": 0
     }
    },
    "colab_type": "code",
    "id": "Ga-3wYn4Xxn3"
   },
   "outputs": [
    {
     "name": "stdout",
     "output_type": "stream",
     "text": [
      "1287/1287 [==============================] - 0s 324us/step\n"
     ]
    },
    {
     "data": {
      "text/plain": [
       "[1.183176350702306, 0.8026418026418026]"
      ]
     },
     "execution_count": 42,
     "metadata": {},
     "output_type": "execute_result"
    }
   ],
   "source": [
    "# test_loss, test_acc\n",
    "results = model.evaluate(X_test, y_test)\n",
    "results"
   ]
  },
  {
   "cell_type": "code",
   "execution_count": null,
   "metadata": {},
   "outputs": [],
   "source": []
  }
 ],
 "metadata": {
  "colab": {
   "default_view": {},
   "name": "Desafio II.ipynb",
   "provenance": [],
   "version": "0.3.2",
   "views": {}
  },
  "kernelspec": {
   "display_name": "Python 3",
   "language": "python",
   "name": "python3"
  },
  "language_info": {
   "codemirror_mode": {
    "name": "ipython",
    "version": 3
   },
   "file_extension": ".py",
   "mimetype": "text/x-python",
   "name": "python",
   "nbconvert_exporter": "python",
   "pygments_lexer": "ipython3",
   "version": "3.6.4"
  }
 },
 "nbformat": 4,
 "nbformat_minor": 2
}
