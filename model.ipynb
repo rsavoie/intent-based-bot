{
 "cells": [
  {
   "cell_type": "markdown",
   "metadata": {},
   "source": [
    "# Intent prediction model"
   ]
  },
  {
   "cell_type": "markdown",
   "metadata": {},
   "source": [
    "Model for predict the intent based on Dense NN"
   ]
  },
  {
   "cell_type": "code",
   "execution_count": 1,
   "metadata": {
    "colab": {
     "autoexec": {
      "startup": false,
      "wait_interval": 0.0
     }
    },
    "colab_type": "code",
    "id": "etbA24J2Xxhe"
   },
   "outputs": [
    {
     "name": "stderr",
     "output_type": "stream",
     "text": [
      "/home/ramiro/bin/anaconda3/lib/python3.6/site-packages/h5py/__init__.py:36: FutureWarning: Conversion of the second argument of issubdtype from `float` to `np.floating` is deprecated. In future, it will be treated as `np.float64 == np.dtype(float).type`.\n",
      "  from ._conv import register_converters as _register_converters\n",
      "Using TensorFlow backend.\n"
     ]
    }
   ],
   "source": [
    "import pandas as pd\n",
    "import matplotlib.pyplot as plt\n",
    "import numpy as np\n",
    "from sklearn.utils import shuffle\n",
    "import os\n",
    "from pathlib import Path\n",
    "import pickle\n",
    "\n",
    "from keras.preprocessing.sequence import pad_sequences\n",
    "from keras.models import Sequential\n",
    "from keras.layers import Flatten, Dense, Embedding, SimpleRNN, LSTM\n",
    "from keras.preprocessing.text import Tokenizer\n",
    "from sklearn.preprocessing import LabelEncoder\n",
    "from keras.utils.np_utils import to_categorical\n",
    "from sklearn.model_selection import train_test_split"
   ]
  },
  {
   "cell_type": "code",
   "execution_count": 2,
   "metadata": {},
   "outputs": [],
   "source": [
    "pd.set_option('display.max_colwidth', -1)"
   ]
  },
  {
   "cell_type": "markdown",
   "metadata": {},
   "source": [
    "## Training dataset"
   ]
  },
  {
   "cell_type": "code",
   "execution_count": 3,
   "metadata": {},
   "outputs": [],
   "source": [
    "# dataset_path = 'data/snips_utterances.csv'\n",
    "# intent_column = 'Intention'\n",
    "# utterance = 'English'\n",
    "# utterance = 'Spanish'\n",
    "\n",
    "# print('Loading Dataset', dataset_path)\n",
    "# all_intents_df = pd.read_csv(dataset_path)"
   ]
  },
  {
   "cell_type": "code",
   "execution_count": 4,
   "metadata": {},
   "outputs": [],
   "source": [
    "company_name = 'origenes'\n",
    "corpus_status = 'tagged'\n",
    "intent_column = 'intent'\n",
    "utterance = 'client_said_cleaned'"
   ]
  },
  {
   "cell_type": "code",
   "execution_count": 5,
   "metadata": {},
   "outputs": [],
   "source": [
    "all_intents_df = pd.read_pickle(os.path.join('datasets', corpus_status, f'{company_name}_client_said_{corpus_status}.pkl'))"
   ]
  },
  {
   "cell_type": "code",
   "execution_count": 6,
   "metadata": {},
   "outputs": [
    {
     "name": "stdout",
     "output_type": "stream",
     "text": [
      "<class 'pandas.core.frame.DataFrame'>\n",
      "RangeIndex: 12177 entries, 0 to 12176\n",
      "Data columns (total 3 columns):\n",
      "client_said_cleaned    12177 non-null object\n",
      "intent                 12177 non-null object\n",
      "confidence             12177 non-null float64\n",
      "dtypes: float64(1), object(2)\n",
      "memory usage: 285.5+ KB\n"
     ]
    }
   ],
   "source": [
    "all_intents_df.info()"
   ]
  },
  {
   "cell_type": "code",
   "execution_count": 7,
   "metadata": {},
   "outputs": [
    {
     "data": {
      "text/plain": [
       "9426     [hacer, averiguar, empleador, haciendo, aportes, mariela, celu, partir, nono, noches]                                                    \n",
       "7966     [fiorella, garzon]                                                                                                                       \n",
       "6926     [cuanto, cuota, cuanto, monto, gabriela, costo, cubre]                                                                                   \n",
       "11222    [puedo, comunicar, telefono, antonio, sales, ahora, hs, bien, paola]                                                                     \n",
       "12005    [quedaron, llamarme, aun, an, hecho, adriana, silvia, gomez, ise, ise, cel, casa, tarde, noche, dijiste, hace, robaron, debo, hacer, oka]\n",
       "Name: client_said_cleaned, dtype: object"
      ]
     },
     "execution_count": 7,
     "metadata": {},
     "output_type": "execute_result"
    }
   ],
   "source": [
    "all_intents_df.sample(5)[utterance]"
   ]
  },
  {
   "cell_type": "code",
   "execution_count": 8,
   "metadata": {},
   "outputs": [
    {
     "data": {
      "text/plain": [
       "152"
      ]
     },
     "execution_count": 8,
     "metadata": {},
     "output_type": "execute_result"
    }
   ],
   "source": [
    "# Max length of the utterances\n",
    "all_intents_df[utterance].str.len().max()"
   ]
  },
  {
   "cell_type": "code",
   "execution_count": 9,
   "metadata": {},
   "outputs": [],
   "source": [
    "### Model hyperparameters\n",
    "# Cutting the utterances in this length\n",
    "max_len = 152\n",
    "\n",
    "# Over the 'max_words' most frequent words.\n",
    "max_words = 10000\n",
    "\n",
    "# Dimensions of the selected Embedding\n",
    "# embedding_dim = 100\n",
    "embedding_dim = 300"
   ]
  },
  {
   "cell_type": "code",
   "execution_count": 10,
   "metadata": {
    "colab": {
     "autoexec": {
      "startup": false,
      "wait_interval": 0.0
     }
    },
    "colab_type": "code",
    "id": "wnus8bouXxiQ",
    "outputId": "54fa5eba-3364-4acb-aeb0-fea33622a2a9"
   },
   "outputs": [
    {
     "name": "stdout",
     "output_type": "stream",
     "text": [
      "Checking balancing of classes\n"
     ]
    },
    {
     "data": {
      "text/plain": [
       "seguro vida                  2545\n",
       "cotizar poliza               1917\n",
       "robo celular                 1615\n",
       "solicitud informacion        1476\n",
       "renta vitalicia              1177\n",
       "recibo pension               745 \n",
       "seguro retiro                615 \n",
       "certificado supervivencia    572 \n",
       "fe vida                      448 \n",
       "dar baja                     402 \n",
       "necesito imprimir            368 \n",
       "contratar seguro             180 \n",
       "baja seguro                  117 \n",
       "Name: intent, dtype: int64"
      ]
     },
     "execution_count": 10,
     "metadata": {},
     "output_type": "execute_result"
    }
   ],
   "source": [
    "print('Checking balancing of classes')\n",
    "all_intents_df[intent_column].value_counts()"
   ]
  },
  {
   "cell_type": "code",
   "execution_count": 11,
   "metadata": {},
   "outputs": [],
   "source": [
    "# Filter by confidence factor\n",
    "# all_intents_df[(all_intents_df['%cluster'] >= 0.5)].count(axis=0)"
   ]
  },
  {
   "cell_type": "code",
   "execution_count": 12,
   "metadata": {
    "colab": {
     "autoexec": {
      "startup": false,
      "wait_interval": 0.0
     }
    },
    "colab_type": "code",
    "id": "91d1p_BwXxid"
   },
   "outputs": [
    {
     "name": "stdout",
     "output_type": "stream",
     "text": [
      "Shuffling the dataset (intents come ordered)\n"
     ]
    }
   ],
   "source": [
    "print('Shuffling the dataset (intents come ordered)')\n",
    "all_intents_df = shuffle(all_intents_df)"
   ]
  },
  {
   "cell_type": "code",
   "execution_count": 13,
   "metadata": {
    "colab": {
     "autoexec": {
      "startup": false,
      "wait_interval": 0.0
     }
    },
    "colab_type": "code",
    "id": "QP-s5AudXxii",
    "outputId": "304023cc-0ac6-4c4b-fcbb-3598431347f5"
   },
   "outputs": [
    {
     "name": "stdout",
     "output_type": "stream",
     "text": [
      "Random sentence\n"
     ]
    },
    {
     "data": {
      "text/html": [
       "<div>\n",
       "<style scoped>\n",
       "    .dataframe tbody tr th:only-of-type {\n",
       "        vertical-align: middle;\n",
       "    }\n",
       "\n",
       "    .dataframe tbody tr th {\n",
       "        vertical-align: top;\n",
       "    }\n",
       "\n",
       "    .dataframe thead th {\n",
       "        text-align: right;\n",
       "    }\n",
       "</style>\n",
       "<table border=\"1\" class=\"dataframe\">\n",
       "  <thead>\n",
       "    <tr style=\"text-align: right;\">\n",
       "      <th></th>\n",
       "      <th>client_said_cleaned</th>\n",
       "      <th>intent</th>\n",
       "      <th>confidence</th>\n",
       "    </tr>\n",
       "  </thead>\n",
       "  <tbody>\n",
       "    <tr>\n",
       "      <th>5115</th>\n",
       "      <td>[maria, concepcion, email, hs, llego, certificado, supervivencia, cobrando, viva, recibieron, certificado, supervivencia, llamado, contestan, recibos, diciembre, enero, voy, poder, cobrar]</td>\n",
       "      <td>certificado supervivencia</td>\n",
       "      <td>1.0</td>\n",
       "    </tr>\n",
       "  </tbody>\n",
       "</table>\n",
       "</div>"
      ],
      "text/plain": [
       "                                                                                                                                                                               client_said_cleaned  \\\n",
       "5115  [maria, concepcion, email, hs, llego, certificado, supervivencia, cobrando, viva, recibieron, certificado, supervivencia, llamado, contestan, recibos, diciembre, enero, voy, poder, cobrar]   \n",
       "\n",
       "                         intent  confidence  \n",
       "5115  certificado supervivencia  1.0         "
      ]
     },
     "execution_count": 13,
     "metadata": {},
     "output_type": "execute_result"
    }
   ],
   "source": [
    "print('Random sentence')\n",
    "all_intents_df.sample(1)"
   ]
  },
  {
   "cell_type": "code",
   "execution_count": 14,
   "metadata": {
    "colab": {
     "autoexec": {
      "startup": false,
      "wait_interval": 0.0
     }
    },
    "colab_type": "code",
    "id": "Fspfsn62Xxit"
   },
   "outputs": [
    {
     "name": "stdout",
     "output_type": "stream",
     "text": [
      "Converting dataframe columns \"client_said_cleaned\" and \"intent\" into lists\n"
     ]
    }
   ],
   "source": [
    "print(f'Converting dataframe columns \"{utterance}\" and \"{intent_column}\" into lists')\n",
    "sentences_list = all_intents_df[utterance].tolist()\n",
    "intents_list = all_intents_df[intent_column].tolist()"
   ]
  },
  {
   "cell_type": "code",
   "execution_count": 15,
   "metadata": {
    "colab": {
     "autoexec": {
      "startup": false,
      "wait_interval": 0.0
     }
    },
    "colab_type": "code",
    "id": "jlTaU9GHXxiz",
    "outputId": "8a056fbb-5e86-4118-f960-5386eb75625e"
   },
   "outputs": [
    {
     "name": "stdout",
     "output_type": "stream",
     "text": [
      "Checking the size of the lists (12177, 12177)\n"
     ]
    }
   ],
   "source": [
    "print('Checking the size of the lists', (len(sentences_list), len(intents_list)))"
   ]
  },
  {
   "cell_type": "markdown",
   "metadata": {},
   "source": [
    "## Tokenization and padding of data"
   ]
  },
  {
   "cell_type": "code",
   "execution_count": 16,
   "metadata": {},
   "outputs": [],
   "source": [
    "def fit_tokenizer(sentences_list, max_words=10000, test_word='book'):\n",
    "    \"\"\"\n",
    "        Fit a Keras Tokenizer based on sentences_list\n",
    "    \"\"\"\n",
    "    tokenizer = Tokenizer(num_words=max_words)\n",
    "    tokenizer.fit_on_texts(sentences_list)\n",
    "    \n",
    "    # Internal word_index of the tokenizer\n",
    "    word_index = tokenizer.word_index\n",
    "    \n",
    "    print('Vocabulary of the corpora', len(word_index))\n",
    "    print(f'Index of the word {test_word}', word_index[test_word])\n",
    "    \n",
    "    # TODO Save this tokenizer for predictions\n",
    "    with open(os.path.join('dist', 'models', f'tokenizer_{company_name}.pickle'), 'wb') as handle:\n",
    "        pickle.dump(tokenizer, handle, protocol=pickle.HIGHEST_PROTOCOL)\n",
    "        print('Tokenizer saved')\n",
    "    \n",
    "    return tokenizer"
   ]
  },
  {
   "cell_type": "code",
   "execution_count": 17,
   "metadata": {
    "colab": {
     "autoexec": {
      "startup": false,
      "wait_interval": 0.0
     }
    },
    "colab_type": "code",
    "id": "eMGelBSWXxi4"
   },
   "outputs": [
    {
     "name": "stdout",
     "output_type": "stream",
     "text": [
      "Vocabulary of the corpora 8851\n",
      "Index of the word seguro 1\n",
      "Tokenizer saved\n"
     ]
    }
   ],
   "source": [
    "tokenizer = fit_tokenizer(sentences_list, max_words, 'seguro')"
   ]
  },
  {
   "cell_type": "code",
   "execution_count": 18,
   "metadata": {},
   "outputs": [],
   "source": [
    "def vectorize_and_pad_sequences(sentences_list, tokenizer):\n",
    "    print('Converting {} sentences into indices with given tokenizer'.format(len(sentences_list)))\n",
    "    sequences = tokenizer.texts_to_sequences(sentences_list)\n",
    "    print('Checking indices of first word', sequences[0][:10])\n",
    "    \n",
    "    # Transforms the sequences into 2D tensors of shape (sample, maxlen)\n",
    "    # Padding to the right data[0, :]\n",
    "    data = pad_sequences(sequences, maxlen=max_len)\n",
    "    print('Shape of padded sequences', data.shape)\n",
    "    \n",
    "    return data"
   ]
  },
  {
   "cell_type": "code",
   "execution_count": 19,
   "metadata": {
    "colab": {
     "autoexec": {
      "startup": false,
      "wait_interval": 0.0
     }
    },
    "colab_type": "code",
    "id": "JKHCoB_9XxjT",
    "outputId": "e0b7428f-6c6d-4d10-e8aa-078cbeb7c02f"
   },
   "outputs": [
    {
     "name": "stdout",
     "output_type": "stream",
     "text": [
      "Converting 12177 sentences into indices with given tokenizer\n",
      "Checking indices of first word [1, 260, 417, 7, 10, 43, 2993, 1054]\n",
      "Shape of padded sequences (12177, 152)\n"
     ]
    }
   ],
   "source": [
    "data = vectorize_and_pad_sequences(sentences_list, tokenizer)"
   ]
  },
  {
   "cell_type": "markdown",
   "metadata": {},
   "source": [
    "## Encoding and one hot of targets"
   ]
  },
  {
   "cell_type": "code",
   "execution_count": 20,
   "metadata": {},
   "outputs": [],
   "source": [
    "def fit_encoder(intents_list):\n",
    "    \"\"\"\n",
    "        Fit a Sklearn LabelEncoder based on intents_list\n",
    "    \"\"\"    \n",
    "    encoder = LabelEncoder()\n",
    "    print('Fitting a LabelEncoder with given target')\n",
    "    encoder.fit(intents_list)    \n",
    "    \n",
    "    print('Found classes', encoder.classes_)\n",
    "    print('Testing encoder', encoder.transform(encoder.classes_))\n",
    "    \n",
    "    np.save(os.path.join('dist', 'models', f'classes_{company_name}.npy'), encoder.classes_)\n",
    "    print('Encoder saved')\n",
    "    return encoder"
   ]
  },
  {
   "cell_type": "code",
   "execution_count": 21,
   "metadata": {},
   "outputs": [
    {
     "name": "stdout",
     "output_type": "stream",
     "text": [
      "Fitting a LabelEncoder with given target\n",
      "Found classes ['baja seguro' 'certificado supervivencia' 'contratar seguro'\n",
      " 'cotizar poliza' 'dar baja' 'fe vida' 'necesito imprimir'\n",
      " 'recibo pension' 'renta vitalicia' 'robo celular' 'seguro retiro'\n",
      " 'seguro vida' 'solicitud informacion']\n",
      "Testing encoder [ 0  1  2  3  4  5  6  7  8  9 10 11 12]\n",
      "Encoder saved\n"
     ]
    }
   ],
   "source": [
    "encoder = fit_encoder(intents_list)"
   ]
  },
  {
   "cell_type": "code",
   "execution_count": 22,
   "metadata": {},
   "outputs": [],
   "source": [
    "def encode_and_one_hot_target(intents_list, encoder):\n",
    "    print('Encoding target with given encoder')\n",
    "    intents_encoded = encoder.transform(intents_list)\n",
    "\n",
    "    print('Convert encoded classes integers to dummy variables')\n",
    "    intents_one_hot = to_categorical(intents_encoded)\n",
    "    \n",
    "    print('Target final shape', intents_one_hot.shape)\n",
    "    return intents_one_hot"
   ]
  },
  {
   "cell_type": "code",
   "execution_count": 23,
   "metadata": {},
   "outputs": [
    {
     "name": "stdout",
     "output_type": "stream",
     "text": [
      "Encoding target with given encoder\n",
      "Convert encoded classes integers to dummy variables\n",
      "Target final shape (12177, 13)\n"
     ]
    }
   ],
   "source": [
    "intents_one_hot = encode_and_one_hot_target(intents_list, encoder)"
   ]
  },
  {
   "cell_type": "code",
   "execution_count": 24,
   "metadata": {
    "colab": {
     "autoexec": {
      "startup": false,
      "wait_interval": 0.0
     }
    },
    "colab_type": "code",
    "id": "sAoN39j-XxkT"
   },
   "outputs": [],
   "source": [
    "X_train, X_test, y_train, y_test = train_test_split(data, intents_one_hot, random_state=1, test_size = .33)"
   ]
  },
  {
   "cell_type": "code",
   "execution_count": 25,
   "metadata": {
    "colab": {
     "autoexec": {
      "startup": false,
      "wait_interval": 0.0
     }
    },
    "colab_type": "code",
    "id": "TYkm8e0vXxkk",
    "outputId": "90dfc4b3-812d-436f-84da-f040366980fd"
   },
   "outputs": [
    {
     "data": {
      "text/plain": [
       "((8158, 152), (4019, 152))"
      ]
     },
     "execution_count": 25,
     "metadata": {},
     "output_type": "execute_result"
    }
   ],
   "source": [
    "X_train.shape, X_test.shape"
   ]
  },
  {
   "cell_type": "code",
   "execution_count": 26,
   "metadata": {
    "colab": {
     "autoexec": {
      "startup": false,
      "wait_interval": 0.0
     }
    },
    "colab_type": "code",
    "id": "sABXzSoMXxkr",
    "outputId": "fd77c701-ee78-4a4e-eff4-3b7faea48e58"
   },
   "outputs": [
    {
     "data": {
      "text/plain": [
       "((8158, 13), (4019, 13))"
      ]
     },
     "execution_count": 26,
     "metadata": {},
     "output_type": "execute_result"
    }
   ],
   "source": [
    "y_train.shape, y_test.shape"
   ]
  },
  {
   "cell_type": "markdown",
   "metadata": {
    "colab_type": "text",
    "id": "RVy82RKSXxk2"
   },
   "source": [
    "## Embedding initialization"
   ]
  },
  {
   "cell_type": "code",
   "execution_count": 27,
   "metadata": {},
   "outputs": [],
   "source": [
    "# cc.es.300.vec\n",
    "def get_embedding(dim_size = 100, test_word='book'):\n",
    "    \"\"\"\n",
    "        Builds a dictionary {'token': [embedding vector]}\n",
    "        :dim_size: Could be 50, 100, 200, 300\n",
    "    \"\"\"\n",
    "    # embedding_file_name = f'glove.6B.{dim_size}d.txt'\n",
    "    # embedding_file_name = f'cc.es.{dim_size}.vec'\n",
    "    embedding_file_name = f'glove-sbwc.i25.vec'\n",
    "    embedding_path = os.path.join(os.getcwd(), 'embeddings', embedding_file_name)\n",
    "    print('Will load the following embedding', embedding_file_name)\n",
    "    embeddings_index = {}\n",
    "    with open(os.path.join(os.getcwd(), 'embeddings', embedding_file_name)) as embedding_file:\n",
    "        for embedding_line in embedding_file.readlines():\n",
    "            token = embedding_line.split()[0]\n",
    "            vector = np.asarray(embedding_line.split()[1:], dtype='float32') # Toda su representacion como Embedding\n",
    "            embeddings_index[token] = vector\n",
    "    \n",
    "    print('Found {} word vectors.'.format(len(embeddings_index)))\n",
    "    print('Checking shape', embeddings_index[test_word].shape)\n",
    "    # print('Checking vector', embeddings_index['sandberger'][:100])\n",
    "    \n",
    "    return embeddings_index"
   ]
  },
  {
   "cell_type": "code",
   "execution_count": 28,
   "metadata": {
    "colab": {
     "autoexec": {
      "startup": false,
      "wait_interval": 0.0
     }
    },
    "colab_type": "code",
    "id": "8Jy978iaXxlH"
   },
   "outputs": [],
   "source": [
    "# %%time\n",
    "# First version\n",
    "# Construye un diccionario {'token': [embedding values]}\n",
    "# embeddings_index = {}\n",
    "# f = open(embedding_path)\n",
    "# for line in f:\n",
    "#     values = line.split()\n",
    "#     word = values[0] # Es el token\n",
    "#     coefs = np.asarray(values[1:], dtype='float32') # Toda su representacion como Embedding\n",
    "#     embeddings_index[word] = coefs\n",
    "# f.close()"
   ]
  },
  {
   "cell_type": "code",
   "execution_count": 29,
   "metadata": {},
   "outputs": [
    {
     "name": "stdout",
     "output_type": "stream",
     "text": [
      "Will load the following embedding glove-sbwc.i25.vec\n",
      "Found 855381 word vectors.\n",
      "Checking shape (300,)\n",
      "CPU times: user 1min 17s, sys: 2.15 s, total: 1min 20s\n",
      "Wall time: 1min 20s\n"
     ]
    }
   ],
   "source": [
    "%%time\n",
    "embeddings_index = get_embedding(dim_size = embedding_dim, test_word = 'libro')"
   ]
  },
  {
   "cell_type": "code",
   "execution_count": 30,
   "metadata": {},
   "outputs": [],
   "source": [
    "def build_embedding_matrix(max_words, tokenizer):\n",
    "    # Building the matrix for feed the embedding, has to be of shape (max_words, embedding_dim)\n",
    "    embedding_matrix = np.zeros((max_words, embedding_dim))\n",
    "    print('Initalizing zeros matrix of shape', embedding_matrix.shape)\n",
    "    \n",
    "    # tokenizer.word_index, el diccionario que definimos antes en el tokenizador con (token, indice)\n",
    "    for word, i in tokenizer.word_index.items():\n",
    "        # Para no pasarnos del indice 10.000\n",
    "        if i < max_words:\n",
    "            # Buscamos la palabra en el embedding index\n",
    "            embedding_vector = embeddings_index.get(word)\n",
    "            # Las palabras que no encontramos en el embedding van a ser todos cero\n",
    "            if embedding_vector is not None:\n",
    "                embedding_matrix[i] = embedding_vector\n",
    "    \n",
    "    print('Checking representation of word 123', embedding_matrix[123][:100])\n",
    "    return embedding_matrix"
   ]
  },
  {
   "cell_type": "code",
   "execution_count": 31,
   "metadata": {},
   "outputs": [
    {
     "name": "stdout",
     "output_type": "stream",
     "text": [
      "Initalizing zeros matrix of shape (10000, 300)\n",
      "Checking representation of word 123 [ 0.013983    0.015656   -0.125512    0.49004     0.334685    0.39254099\n",
      " -0.15981799 -0.118372   -0.233236    0.051459   -0.231475    0.511895\n",
      "  0.471035   -0.379711   -0.521577    0.56374198 -0.14150999 -0.30565199\n",
      "  0.112039   -0.27868399 -0.193812    0.034193   -0.205626    0.67226899\n",
      "  0.098167    0.050468    0.098594    0.51458299 -0.161604    0.46579599\n",
      " -0.43404999  0.215607   -0.104243    0.21912301  0.57498902 -0.194419\n",
      " -0.552701    0.106965   -0.197309   -0.32554901  0.54568702  0.379031\n",
      " -0.076577    0.364501    0.39564401 -0.243542   -0.228911   -0.066483\n",
      "  0.102764    0.51625198  0.33750501 -0.17247701  0.035878    0.001893\n",
      "  0.239755    0.019371   -0.027835   -0.412148    0.067693   -0.00636\n",
      " -0.094935   -0.17882399 -0.46363801  0.127313    0.53180897  0.193661\n",
      " -0.002463    0.92552799  0.074762   -0.117839   -0.74339598  0.46879199\n",
      " -0.021947    0.30310199  0.17219099  0.398177    0.50004202  0.25898299\n",
      " -0.13751    -0.085922   -0.41355801 -0.54388303  0.56728101  0.383973\n",
      "  0.212639    0.84020197 -0.15231401 -0.53241003 -0.52280998 -0.38892901\n",
      "  0.89638197 -0.175044    0.374861    0.24526601  0.61708897  0.031631\n",
      "  0.88591802  0.13292301  0.15601601  0.216304  ]\n"
     ]
    }
   ],
   "source": [
    "embedding_matrix = build_embedding_matrix(max_words, tokenizer)"
   ]
  },
  {
   "cell_type": "markdown",
   "metadata": {
    "colab_type": "text",
    "id": "v7Xumu8vXxml"
   },
   "source": [
    "## Model"
   ]
  },
  {
   "cell_type": "code",
   "execution_count": 32,
   "metadata": {
    "colab": {
     "autoexec": {
      "startup": false,
      "wait_interval": 0.0
     }
    },
    "colab_type": "code",
    "id": "FFg8dEGLXxmm",
    "outputId": "9640db5e-bea4-4d40-941f-fd82a42f2202"
   },
   "outputs": [
    {
     "name": "stdout",
     "output_type": "stream",
     "text": [
      "_________________________________________________________________\n",
      "Layer (type)                 Output Shape              Param #   \n",
      "=================================================================\n",
      "embedding_1 (Embedding)      (None, 152, 300)          3000000   \n",
      "_________________________________________________________________\n",
      "flatten_1 (Flatten)          (None, 45600)             0         \n",
      "_________________________________________________________________\n",
      "dense_1 (Dense)              (None, 32)                1459232   \n",
      "_________________________________________________________________\n",
      "dense_2 (Dense)              (None, 13)                429       \n",
      "=================================================================\n",
      "Total params: 4,459,661\n",
      "Trainable params: 4,459,661\n",
      "Non-trainable params: 0\n",
      "_________________________________________________________________\n"
     ]
    }
   ],
   "source": [
    "model = Sequential()\n",
    "model.add(Embedding(max_words, embedding_dim, input_length=max_len))\n",
    "model.add(Flatten())\n",
    "model.add(Dense(32, activation='relu'))\n",
    "model.add(Dense(13, activation='softmax'))\n",
    "\n",
    "model.summary()"
   ]
  },
  {
   "cell_type": "code",
   "execution_count": 33,
   "metadata": {
    "colab": {
     "autoexec": {
      "startup": false,
      "wait_interval": 0.0
     }
    },
    "colab_type": "code",
    "id": "7kuWSHtUXxnE"
   },
   "outputs": [],
   "source": [
    "# Conocimiento de la capa, cada fila es la palabra con el indice i\n",
    "model.layers[0].set_weights([embedding_matrix])\n",
    "model.layers[0].trainable = False"
   ]
  },
  {
   "cell_type": "code",
   "execution_count": 34,
   "metadata": {
    "colab": {
     "autoexec": {
      "startup": false,
      "wait_interval": 0.0
     }
    },
    "colab_type": "code",
    "id": "Mjfg-d5pXxnJ"
   },
   "outputs": [],
   "source": [
    "model.compile(optimizer='rmsprop', loss='categorical_crossentropy', metrics=['acc'])"
   ]
  },
  {
   "cell_type": "code",
   "execution_count": 35,
   "metadata": {
    "colab": {
     "autoexec": {
      "startup": false,
      "wait_interval": 0.0
     }
    },
    "colab_type": "code",
    "id": "h5GvVBCOXxnV",
    "outputId": "9df4957f-54a1-4b13-8b2c-439a92326bfa"
   },
   "outputs": [
    {
     "name": "stdout",
     "output_type": "stream",
     "text": [
      "_________________________________________________________________\n",
      "Layer (type)                 Output Shape              Param #   \n",
      "=================================================================\n",
      "embedding_1 (Embedding)      (None, 152, 300)          3000000   \n",
      "_________________________________________________________________\n",
      "flatten_1 (Flatten)          (None, 45600)             0         \n",
      "_________________________________________________________________\n",
      "dense_1 (Dense)              (None, 32)                1459232   \n",
      "_________________________________________________________________\n",
      "dense_2 (Dense)              (None, 13)                429       \n",
      "=================================================================\n",
      "Total params: 4,459,661\n",
      "Trainable params: 1,459,661\n",
      "Non-trainable params: 3,000,000\n",
      "_________________________________________________________________\n"
     ]
    }
   ],
   "source": [
    "model.summary()"
   ]
  },
  {
   "cell_type": "code",
   "execution_count": 36,
   "metadata": {
    "colab": {
     "autoexec": {
      "startup": false,
      "wait_interval": 0.0
     }
    },
    "colab_type": "code",
    "id": "t8vbnkc2Xxnd",
    "outputId": "5ba9ed9e-2ce9-4d8a-9261-2450d556b06c"
   },
   "outputs": [
    {
     "name": "stdout",
     "output_type": "stream",
     "text": [
      "Train on 6526 samples, validate on 1632 samples\n",
      "Epoch 1/10\n",
      "6526/6526 [==============================] - 6s 958us/step - loss: 1.4757 - acc: 0.5469 - val_loss: 1.0348 - val_acc: 0.7065\n",
      "Epoch 2/10\n",
      "6526/6526 [==============================] - 6s 910us/step - loss: 0.4868 - acc: 0.8586 - val_loss: 0.9217 - val_acc: 0.7298\n",
      "Epoch 3/10\n",
      "6526/6526 [==============================] - 6s 937us/step - loss: 0.2291 - acc: 0.9358 - val_loss: 0.9772 - val_acc: 0.7157\n",
      "Epoch 4/10\n",
      "6526/6526 [==============================] - 7s 999us/step - loss: 0.1201 - acc: 0.9723 - val_loss: 1.0689 - val_acc: 0.7255\n",
      "Epoch 5/10\n",
      "6526/6526 [==============================] - 7s 1ms/step - loss: 0.0664 - acc: 0.9871 - val_loss: 1.1887 - val_acc: 0.7200\n",
      "Epoch 6/10\n",
      "6526/6526 [==============================] - 6s 983us/step - loss: 0.0383 - acc: 0.9926 - val_loss: 1.3277 - val_acc: 0.7163\n",
      "Epoch 7/10\n",
      "6526/6526 [==============================] - 6s 996us/step - loss: 0.0228 - acc: 0.9957 - val_loss: 1.4570 - val_acc: 0.7132\n",
      "Epoch 8/10\n",
      "6526/6526 [==============================] - 7s 1ms/step - loss: 0.0130 - acc: 0.9985 - val_loss: 1.5676 - val_acc: 0.7047\n",
      "Epoch 9/10\n",
      "6526/6526 [==============================] - 7s 1ms/step - loss: 0.0078 - acc: 0.9994 - val_loss: 1.6777 - val_acc: 0.7034\n",
      "Epoch 10/10\n",
      "6526/6526 [==============================] - 7s 1ms/step - loss: 0.0043 - acc: 0.9995 - val_loss: 1.7930 - val_acc: 0.7089\n",
      "CPU times: user 1min 40s, sys: 41.2 s, total: 2min 21s\n",
      "Wall time: 1min 4s\n"
     ]
    }
   ],
   "source": [
    "%%time\n",
    "history = model.fit(X_train, y_train, epochs=10, batch_size=32, validation_split=0.2)"
   ]
  },
  {
   "cell_type": "code",
   "execution_count": 37,
   "metadata": {},
   "outputs": [
    {
     "name": "stdout",
     "output_type": "stream",
     "text": [
      "Saved model to disk\n"
     ]
    }
   ],
   "source": [
    "# Serialize model to JSON\n",
    "model_json = model.to_json()\n",
    "with open(os.path.join('dist', 'models', f'model_{company_name}.json'), \"w\") as json_file:\n",
    "    json_file.write(model_json)\n",
    "\n",
    "# Serialize weights to HDF5\n",
    "model.save_weights(os.path.join('dist', 'models', f'model_{company_name}.h5'))\n",
    "print(\"Saved model to disk\")"
   ]
  },
  {
   "cell_type": "markdown",
   "metadata": {},
   "source": [
    "## Performance"
   ]
  },
  {
   "cell_type": "code",
   "execution_count": 38,
   "metadata": {},
   "outputs": [],
   "source": [
    "def print_figure(training_values, validation_values, metric):\n",
    "    # Usamos un range para generar una serie entera\n",
    "    epochs = range(1, len(training_values) + 1)\n",
    "    \n",
    "    plt.clf()\n",
    "    plt.plot(epochs, training_values, 'bo', label='Training ' + metric) # bo es blue dot\n",
    "    plt.plot(epochs, validation_values, 'b', label='Validation ' + metric)\n",
    "    plt.title('Training and validation ' + metric)\n",
    "    plt.xlabel('Epochs')\n",
    "    plt.ylabel(metric)\n",
    "    plt.legend()\n",
    "\n",
    "    plt.show()    "
   ]
  },
  {
   "cell_type": "code",
   "execution_count": 39,
   "metadata": {},
   "outputs": [],
   "source": [
    "def print_loss(history):\n",
    "    history_dict = history.history\n",
    "    loss_values = history_dict['loss']\n",
    "    val_loss_values = history_dict['val_loss']\n",
    "    \n",
    "    print_figure(loss_values, val_loss_values, 'Loss')"
   ]
  },
  {
   "cell_type": "code",
   "execution_count": 40,
   "metadata": {},
   "outputs": [],
   "source": [
    "def print_acc(history):\n",
    "    history_dict = history.history\n",
    "    acc_values = history_dict['acc']\n",
    "    val_acc_values = history_dict['val_acc']\n",
    "    \n",
    "    print_figure(acc_values, val_acc_values, 'Accuracy')"
   ]
  },
  {
   "cell_type": "code",
   "execution_count": 41,
   "metadata": {},
   "outputs": [
    {
     "data": {
      "image/png": "[encoded data removed]",
      "text/plain": [
       "<matplotlib.figure.Figure at 0x7f0e2b29a8d0>"
      ]
     },
     "metadata": {},
     "output_type": "display_data"
    }
   ],
   "source": [
    "print_loss(history)"
   ]
  },
  {
   "cell_type": "code",
   "execution_count": 42,
   "metadata": {},
   "outputs": [
    {
     "data": {
      "image/png": "[encoded data removed]",
      "text/plain": [
       "<matplotlib.figure.Figure at 0x7f0e237f84a8>"
      ]
     },
     "metadata": {},
     "output_type": "display_data"
    }
   ],
   "source": [
    "print_acc(history)"
   ]
  },
  {
   "cell_type": "code",
   "execution_count": 43,
   "metadata": {
    "colab": {
     "autoexec": {
      "startup": false,
      "wait_interval": 0.0
     }
    },
    "colab_type": "code",
    "id": "Ga-3wYn4Xxn3"
   },
   "outputs": [
    {
     "name": "stdout",
     "output_type": "stream",
     "text": [
      "4019/4019 [==============================] - 1s 227us/step\n"
     ]
    },
    {
     "data": {
      "text/plain": [
       "[1.890205738941334, 0.712863896417511]"
      ]
     },
     "execution_count": 43,
     "metadata": {},
     "output_type": "execute_result"
    }
   ],
   "source": [
    "# test_loss, test_acc\n",
    "results = model.evaluate(X_test, y_test)\n",
    "results"
   ]
  },
  {
   "cell_type": "code",
   "execution_count": null,
   "metadata": {},
   "outputs": [],
   "source": []
  }
 ],
 "metadata": {
  "colab": {
   "default_view": {},
   "name": "Desafio II.ipynb",
   "provenance": [],
   "version": "0.3.2",
   "views": {}
  },
  "kernelspec": {
   "display_name": "Python 3",
   "language": "python",
   "name": "python3"
  },
  "language_info": {
   "codemirror_mode": {
    "name": "ipython",
    "version": 3
   },
   "file_extension": ".py",
   "mimetype": "text/x-python",
   "name": "python",
   "nbconvert_exporter": "python",
   "pygments_lexer": "ipython3",
   "version": "3.6.4"
  }
 },
 "nbformat": 4,
 "nbformat_minor": 2
}
