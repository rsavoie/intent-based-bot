{
 "cells": [
  {
   "cell_type": "markdown",
   "metadata": {},
   "source": [
    "# Predictions"
   ]
  },
  {
   "cell_type": "markdown",
   "metadata": {},
   "source": [
    "In this notebook you could test a pretrained model with real sentences"
   ]
  },
  {
   "cell_type": "code",
   "execution_count": 1,
   "metadata": {},
   "outputs": [],
   "source": [
    "%load_ext autoreload"
   ]
  },
  {
   "cell_type": "code",
   "execution_count": 2,
   "metadata": {},
   "outputs": [
    {
     "name": "stderr",
     "output_type": "stream",
     "text": [
      "/home/ramiro/bin/anaconda3/lib/python3.6/site-packages/h5py/__init__.py:36: FutureWarning: Conversion of the second argument of issubdtype from `float` to `np.floating` is deprecated. In future, it will be treated as `np.float64 == np.dtype(float).type`.\n",
      "  from ._conv import register_converters as _register_converters\n",
      "Using TensorFlow backend.\n"
     ]
    }
   ],
   "source": [
    "%autoreload\n",
    "import warnings\n",
    "from intentbasedbot import model as intent_model"
   ]
  },
  {
   "cell_type": "code",
   "execution_count": 3,
   "metadata": {},
   "outputs": [],
   "source": [
    "warnings.filterwarnings(\"ignore\", category=DeprecationWarning) "
   ]
  },
  {
   "cell_type": "code",
   "execution_count": 4,
   "metadata": {},
   "outputs": [],
   "source": [
    "company_name = 'origenes'"
   ]
  },
  {
   "cell_type": "code",
   "execution_count": 5,
   "metadata": {},
   "outputs": [],
   "source": [
    "# model, encoder, tokenizer = intent_model.get_model_and_encoder(company_name)"
   ]
  },
  {
   "cell_type": "code",
   "execution_count": 12,
   "metadata": {},
   "outputs": [],
   "source": [
    "utterances = [\n",
    "    'seguro de vida',\n",
    "    'hola muy buenos dias quiero sacar un seguro de vida para mi mama y para mi',\n",
    "    'quiero saber si estamos cubiertos',\n",
    "    'me robaron el celular en constitucion',\n",
    "    'quiero sacar una fe de vida',\n",
    "    '¿donde tramito mi certificado de supervivencia?'\n",
    "]"
   ]
  },
  {
   "cell_type": "code",
   "execution_count": 13,
   "metadata": {},
   "outputs": [
    {
     "name": "stdout",
     "output_type": "stream",
     "text": [
      "[{'utterance': 'seguro de vida', 'value': 'seguro vida', 'confidence': 0.997783}]\n",
      "[{'utterance': 'hola muy buenos dias quiero sacar un seguro de vida para mi mama y para mi', 'value': 'seguro vida', 'confidence': 0.99939287}]\n",
      "[{'utterance': 'quiero saber si estamos cubiertos', 'value': 'robo celular', 'confidence': 0.1929223}]\n",
      "[{'utterance': 'me robaron el celular en constitucion', 'value': 'robo celular', 'confidence': 0.99982697}]\n",
      "[{'utterance': 'quiero sacar una fe de vida', 'value': 'fe vida', 'confidence': 0.9970079}]\n",
      "[{'utterance': '¿donde tramito mi certificado de supervivencia?', 'value': 'cotizar poliza', 'confidence': 0.93426096}]\n"
     ]
    }
   ],
   "source": [
    "for utterance in utterances:\n",
    "    print(intent_model.predict(utterance, company_name))"
   ]
  },
  {
   "cell_type": "code",
   "execution_count": null,
   "metadata": {},
   "outputs": [],
   "source": []
  }
 ],
 "metadata": {
  "kernelspec": {
   "display_name": "Python 3",
   "language": "python",
   "name": "python3"
  },
  "language_info": {
   "codemirror_mode": {
    "name": "ipython",
    "version": 3
   },
   "file_extension": ".py",
   "mimetype": "text/x-python",
   "name": "python",
   "nbconvert_exporter": "python",
   "pygments_lexer": "ipython3",
   "version": "3.6.4"
  }
 },
 "nbformat": 4,
 "nbformat_minor": 2
}
