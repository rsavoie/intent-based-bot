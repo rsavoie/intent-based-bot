{
 "cells": [
  {
   "cell_type": "markdown",
   "metadata": {},
   "source": [
    "# Predictions"
   ]
  },
  {
   "cell_type": "markdown",
   "metadata": {},
   "source": [
    "In this notebook you could test a pretrained model with real sentences"
   ]
  },
  {
   "cell_type": "code",
   "execution_count": null,
   "metadata": {},
   "outputs": [],
   "source": [
    "import numpy as np\n",
    "import os\n",
    "import pandas as pd\n",
    "\n",
    "import pickle\n",
    "from keras.preprocessing.sequence import pad_sequences\n",
    "from keras.preprocessing.text import Tokenizer\n",
    "from sklearn.preprocessing import LabelEncoder\n",
    "from keras.models import model_from_json\n",
    "\n",
    "# Only for testing in local\n",
    "import sample"
   ]
  },
  {
   "cell_type": "code",
   "execution_count": null,
   "metadata": {},
   "outputs": [],
   "source": [
    "# Import and use intentbasedbot\n",
    "def get_model_and_encoder(lang):\n",
    "\tbase_path = 'intentbasedbot'\n",
    "\tprint('Loading model and encoder')\n",
    "\twith open(os.path.join(base_path, 'model', f'model_{lang}.json'), 'r') as json_file:\n",
    "\t\tmodel = model_from_json(json_file.read())\n",
    "\tprint('Model definition loaded from disk')\n",
    "\n",
    "\ttry:\n",
    "\t\tmodel.load_weights(os.path.join(base_path, 'model', f'model_{lang}.h5'))\n",
    "\t\tprint(\"Model weights loaded from disk\")\n",
    "\texcept:\n",
    "\t\tprint('Error abort prediction')\n",
    "\t\tabort(500)\n",
    "\n",
    "\tencoder = LabelEncoder()\n",
    "\tencoder.classes_ = np.load(os.path.join(base_path, 'model', f'classes_{lang}.npy'))\n",
    "\tprint('Encoder definition loaded from disk')\n",
    "\n",
    "\twith open(os.path.join(base_path, 'model', f'tokenizer_{lang}.pickle'), 'rb') as handle:\n",
    "\t\ttokenizer = pickle.load(handle)\n",
    "\n",
    "\treturn model, encoder, tokenizer"
   ]
  },
  {
   "cell_type": "code",
   "execution_count": null,
   "metadata": {},
   "outputs": [],
   "source": [
    "def preprocessing(sentences, tokenizer, max_len = 100):\n",
    "\t\"\"\"\n",
    "\t\t:sentences: List of strings\n",
    "\t\t:returns: (1,100) numpy array\n",
    "\t\"\"\"\n",
    "\tsequences = tokenizer.texts_to_sequences(sentences)\n",
    "\n",
    "\t# Transforming the list of indexes to a 2D tensor (sample, maxlen)\n",
    "\treturn pad_sequences(sequences, maxlen=max_len)"
   ]
  },
  {
   "cell_type": "code",
   "execution_count": null,
   "metadata": {},
   "outputs": [],
   "source": [
    "model, encoder, tokenizer = get_model_and_encoder('es')"
   ]
  },
  {
   "cell_type": "code",
   "execution_count": null,
   "metadata": {},
   "outputs": [],
   "source": [
    "sample_sentence = sample.get_sample(10)\n",
    "test_data = preprocessing(sample_sentence, tokenizer)\n",
    "predictions = model.predict_classes(test_data, batch_size=10, verbose=1)\n",
    "for i in range(0, len(predictions)):\n",
    "    print('Class for {}: {}'.format(sample_sentence[i], encoder.inverse_transform(predictions[i])))"
   ]
  },
  {
   "cell_type": "code",
   "execution_count": null,
   "metadata": {},
   "outputs": [],
   "source": [
    "dataset_path = 'data/snips_utterances.csv'\n",
    "intent_column = 'Intention'\n",
    "language = 'Spanish'\n",
    "\n",
    "all_intents_df = pd.read_csv(dataset_path)\n",
    "all_intents_df.sample(10)"
   ]
  }
 ],
 "metadata": {
  "kernelspec": {
   "display_name": "Python 3",
   "language": "python",
   "name": "python3"
  },
  "language_info": {
   "codemirror_mode": {
    "name": "ipython",
    "version": 3
   },
   "file_extension": ".py",
   "mimetype": "text/x-python",
   "name": "python",
   "nbconvert_exporter": "python",
   "pygments_lexer": "ipython3",
   "version": "3.6.4"
  }
 },
 "nbformat": 4,
 "nbformat_minor": 2
}
