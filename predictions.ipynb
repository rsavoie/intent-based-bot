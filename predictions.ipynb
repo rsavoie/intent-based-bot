{
 "cells": [
  {
   "cell_type": "markdown",
   "metadata": {},
   "source": [
    "# Predictions"
   ]
  },
  {
   "cell_type": "markdown",
   "metadata": {},
   "source": [
    "In this notebook you could test a pretrained model with real sentences"
   ]
  },
  {
   "cell_type": "markdown",
   "metadata": {},
   "source": [
    "Links:\n",
    "- https://developers.facebook.com/apps/285801978661570/webhooks/\n",
    "- https://www.facebook.com/messages/t/intentbasedbot\n",
    "- https://www.facebook.com/intentbasedbot/\n",
    "- https://docs.google.com/presentation/d/1T9Yw5PtqbhyXggL7K05mxAH8ptI-_uXb8yCAv10jIfw/edit#slide=id.p    "
   ]
  },
  {
   "cell_type": "code",
   "execution_count": 1,
   "metadata": {},
   "outputs": [],
   "source": [
    "%load_ext autoreload"
   ]
  },
  {
   "cell_type": "code",
   "execution_count": 2,
   "metadata": {},
   "outputs": [
    {
     "name": "stderr",
     "output_type": "stream",
     "text": [
      "/home/ramiro/bin/anaconda3/lib/python3.6/site-packages/h5py/__init__.py:36: FutureWarning: Conversion of the second argument of issubdtype from `float` to `np.floating` is deprecated. In future, it will be treated as `np.float64 == np.dtype(float).type`.\n",
      "  from ._conv import register_converters as _register_converters\n",
      "Using TensorFlow backend.\n"
     ]
    }
   ],
   "source": [
    "%autoreload\n",
    "import warnings\n",
    "\n",
    "warnings.filterwarnings(\"ignore\", category=DeprecationWarning) \n",
    "from intentbasedbot import model as intent_model"
   ]
  },
  {
   "cell_type": "code",
   "execution_count": 6,
   "metadata": {},
   "outputs": [],
   "source": [
    "company_name = 'cycles_motos'"
   ]
  },
  {
   "cell_type": "code",
   "execution_count": 7,
   "metadata": {},
   "outputs": [],
   "source": [
    "company_utterances = {\n",
    "    'cycles_motos': [\n",
    "        'quiero saber cuanto me sale una moto financiada',\n",
    "        'tienen llaves de paso de yamaha?',\n",
    "        'necesito cambiar el tapon de aceite',        \n",
    "        'quiero sacar una moto y que me descuenten por recibo de sueldo',\n",
    "        'cuanto sale un casco',        \n",
    "        'cuanto salen los cuatriciclos zanella para chicos',\n",
    "        'soy monotributista, puedo sacar una honda?',\n",
    "        'puedo pasar a buscar los engranajes de distribucion mañana',        \n",
    "    ],\n",
    "    'origenes': [\n",
    "        'muy buenos dias quiero sacar un seguro de vida para mi mama y para mi',\n",
    "        'quiero sacar una fe de vida',\n",
    "        '¿donde tramito mi certificado de supervivencia?',\n",
    "        'donde puedo dar de baja mi poliza',\n",
    "        'quiero imprimir poliza de seguro'\n",
    "    ],\n",
    "    'smartfix': [\n",
    "        'se me rompio la pc',\n",
    "        'quiero formatear el disco',\n",
    "        'se me cayo el iphone y se me rompio la pantalla', # Sacar iphone\n",
    "        'necesito validar la garantia de mi HP',\n",
    "        'tienen multifuncion HP?'\n",
    "    ]        \n",
    "}"
   ]
  },
  {
   "cell_type": "code",
   "execution_count": 8,
   "metadata": {},
   "outputs": [
    {
     "name": "stderr",
     "output_type": "stream",
     "text": [
      "/home/ramiro/bin/anaconda3/lib/python3.6/site-packages/sklearn/preprocessing/label.py:151: DeprecationWarning: The truth value of an empty array is ambiguous. Returning False, but in future this will result in an error. Use `array.size > 0` to check that an array is not empty.\n",
      "  if diff:\n",
      "/home/ramiro/bin/anaconda3/lib/python3.6/site-packages/sklearn/preprocessing/label.py:151: DeprecationWarning: The truth value of an empty array is ambiguous. Returning False, but in future this will result in an error. Use `array.size > 0` to check that an array is not empty.\n",
      "  if diff:\n"
     ]
    },
    {
     "name": "stdout",
     "output_type": "stream",
     "text": [
      "{'utterance': 'quiero saber cuanto me sale una moto financiada', 'intent': 'cuotas', 'confidence': 98.59}\n",
      "{'utterance': 'tienen llaves de paso de yamaha?', 'intent': 'repuestos', 'confidence': 97.68}\n"
     ]
    },
    {
     "name": "stderr",
     "output_type": "stream",
     "text": [
      "/home/ramiro/bin/anaconda3/lib/python3.6/site-packages/sklearn/preprocessing/label.py:151: DeprecationWarning: The truth value of an empty array is ambiguous. Returning False, but in future this will result in an error. Use `array.size > 0` to check that an array is not empty.\n",
      "  if diff:\n",
      "/home/ramiro/bin/anaconda3/lib/python3.6/site-packages/sklearn/preprocessing/label.py:151: DeprecationWarning: The truth value of an empty array is ambiguous. Returning False, but in future this will result in an error. Use `array.size > 0` to check that an array is not empty.\n",
      "  if diff:\n"
     ]
    },
    {
     "name": "stdout",
     "output_type": "stream",
     "text": [
      "{'utterance': 'necesito cambiar el tapon de aceite', 'intent': 'repuestos', 'confidence': 99.96}\n",
      "{'utterance': 'quiero sacar una moto y que me descuenten por recibo de sueldo', 'intent': 'cuotas', 'confidence': 100.0}\n"
     ]
    },
    {
     "name": "stderr",
     "output_type": "stream",
     "text": [
      "/home/ramiro/bin/anaconda3/lib/python3.6/site-packages/sklearn/preprocessing/label.py:151: DeprecationWarning: The truth value of an empty array is ambiguous. Returning False, but in future this will result in an error. Use `array.size > 0` to check that an array is not empty.\n",
      "  if diff:\n",
      "/home/ramiro/bin/anaconda3/lib/python3.6/site-packages/sklearn/preprocessing/label.py:151: DeprecationWarning: The truth value of an empty array is ambiguous. Returning False, but in future this will result in an error. Use `array.size > 0` to check that an array is not empty.\n",
      "  if diff:\n"
     ]
    },
    {
     "name": "stdout",
     "output_type": "stream",
     "text": [
      "{'utterance': 'cuanto sale un casco', 'intent': 'repuestos', 'confidence': 39.04}\n",
      "{'utterance': 'cuanto salen los cuatriciclos zanella para chicos', 'intent': 'consultasgenerales', 'confidence': 96.38}\n",
      "{'utterance': 'soy monotributista, puedo sacar una honda?', 'intent': 'cuotas', 'confidence': 100.0}\n",
      "{'utterance': 'puedo pasar a buscar los engranajes de distribucion mañana', 'intent': 'cuotas', 'confidence': 89.35}\n"
     ]
    },
    {
     "name": "stderr",
     "output_type": "stream",
     "text": [
      "/home/ramiro/bin/anaconda3/lib/python3.6/site-packages/sklearn/preprocessing/label.py:151: DeprecationWarning: The truth value of an empty array is ambiguous. Returning False, but in future this will result in an error. Use `array.size > 0` to check that an array is not empty.\n",
      "  if diff:\n",
      "/home/ramiro/bin/anaconda3/lib/python3.6/site-packages/sklearn/preprocessing/label.py:151: DeprecationWarning: The truth value of an empty array is ambiguous. Returning False, but in future this will result in an error. Use `array.size > 0` to check that an array is not empty.\n",
      "  if diff:\n"
     ]
    }
   ],
   "source": [
    "for utterance in company_utterances[company_name]:\n",
    "    print(intent_model.predict(utterance, company_name))"
   ]
  },
  {
   "cell_type": "code",
   "execution_count": null,
   "metadata": {},
   "outputs": [],
   "source": []
  }
 ],
 "metadata": {
  "kernelspec": {
   "display_name": "Python 3",
   "language": "python",
   "name": "python3"
  },
  "language_info": {
   "codemirror_mode": {
    "name": "ipython",
    "version": 3
   },
   "file_extension": ".py",
   "mimetype": "text/x-python",
   "name": "python",
   "nbconvert_exporter": "python",
   "pygments_lexer": "ipython3",
   "version": "3.6.4"
  }
 },
 "nbformat": 4,
 "nbformat_minor": 2
}
